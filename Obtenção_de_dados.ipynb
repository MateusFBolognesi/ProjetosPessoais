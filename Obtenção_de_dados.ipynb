{
 "cells": [
  {
   "cell_type": "code",
   "execution_count": 1,
   "id": "b37cc11e",
   "metadata": {},
   "outputs": [],
   "source": [
    "import pandas as pd\n",
    "import re\n",
    "from selenium import webdriver\n",
    "from selenium.webdriver.common.keys import Keys\n",
    "from selenium.webdriver.common.by import By\n",
    "import numpy as np\n",
    "import time"
   ]
  },
  {
   "cell_type": "markdown",
   "id": "ffcacc8c",
   "metadata": {},
   "source": [
    "Após pesquisar, descobri que webscrapping a partir de um usuários é ilegal (pelo o menos nos EUA), no entanto, se acessarmos os dados que estao publicamente disponíveis, não estaremos violando nenhuma lei.\n",
    "Além disso, o link utilizado a baixo é para uma página do linkedin com filtros ja estabelecidos. São eles:\n",
    "Vaga = analista de dados\n",
    "Regiao = Sao Paulo, Sao Paulo, Brasil\n",
    "Nivel de experiencia = Estagio, Assistente, Júnior\n",
    "apenas do último mês"
   ]
  },
  {
   "cell_type": "code",
   "execution_count": 2,
   "id": "712d672d",
   "metadata": {},
   "outputs": [
    {
     "name": "stderr",
     "output_type": "stream",
     "text": [
      "C:\\Users\\mateu\\AppData\\Local\\Temp\\ipykernel_3620\\608424945.py:1: DeprecationWarning: executable_path has been deprecated, please pass in a Service object\n",
      "  browser = webdriver.Chrome('chromedriver.exe')\n"
     ]
    }
   ],
   "source": [
    "browser = webdriver.Chrome('chromedriver.exe')\n",
    "browser.get('https://www.linkedin.com/jobs/search?keywords=Dados&location=Brasil&geoId=106057199&trk=public_jobs_jobs-search-bar_search-submit&position=1&pageNum=0')"
   ]
  },
  {
   "cell_type": "markdown",
   "id": "a5688269",
   "metadata": {},
   "source": [
    "selecionar os links com os detalhes de cada emprego"
   ]
  },
  {
   "cell_type": "code",
   "execution_count": 3,
   "id": "012ac0b4",
   "metadata": {},
   "outputs": [],
   "source": [
    "element = browser.find_element(By.TAG_NAME, 'body')\n",
    "last_height = browser.execute_script('return document.body.scrollHeight')\n",
    "lista = []\n",
    "links_endereco = []\n",
    "quantidade_total = 1000 \n",
    "while quantidade_total > len(lista):\n",
    "    # vai ate o final da pagina\n",
    "    browser.execute_script('window.scrollTo(0, document.body.scrollHeight);')\n",
    "    # scroll para cima para come;ar a carregar a prox pagina\n",
    "    element.send_keys(Keys.PAGE_UP)\n",
    "    # agurada carregar\n",
    "    time.sleep(2)\n",
    "    # scroll para baixo para simular uma pessoa\n",
    "    element.send_keys(Keys.PAGE_DOWN)\n",
    "    # procurar pelo botao \"mais vagas\".\n",
    "    new_height = browser.execute_script('return document.body.scrollHeight')\n",
    "    if last_height == new_height:\n",
    "        mais_vagas = browser.find_element(By.CSS_SELECTOR, '#main-content > section.two-pane-serp-page__results-list > button')\n",
    "        mais_vagas.click()\n",
    "        time.sleep(2)\n",
    "    last_height = new_height\n",
    "    links_objeto = browser.find_elements(By.XPATH, '//a[contains(@href, \"com/jobs/view\")]') \n",
    "    for elemento in links_objeto:\n",
    "        links_endereco.append(elemento.get_attribute('href'))\n",
    "    lista = links_endereco\n"
   ]
  },
  {
   "cell_type": "code",
   "execution_count": 4,
   "id": "0008e1de",
   "metadata": {},
   "outputs": [
    {
     "data": {
      "text/plain": [
       "1091"
      ]
     },
     "execution_count": 4,
     "metadata": {},
     "output_type": "execute_result"
    }
   ],
   "source": [
    "len(lista)"
   ]
  },
  {
   "cell_type": "markdown",
   "id": "3434f01e",
   "metadata": {},
   "source": [
    "Após analisar o site, identifiquei a classe que continha a informação necessária, agora para extrair utilizarei o selenium e suas funcionalidade de busca para extrair as informações."
   ]
  },
  {
   "cell_type": "code",
   "execution_count": 9,
   "id": "f9e795d9",
   "metadata": {},
   "outputs": [
    {
     "name": "stdout",
     "output_type": "stream",
     "text": [
      "linkedin pediu por cadastro 0 vezes\n",
      "falhou ao conectar 0 vezes\n"
     ]
    }
   ],
   "source": [
    "#criação de listas para armazenar as informações\n",
    "cargos = []\n",
    "descricoes = []\n",
    "categorias = []\n",
    "empresas = []\n",
    "links = []\n",
    "locais = []\n",
    "contador_01 = 0\n",
    "contador_02 = 0\n",
    "\n",
    "#loop para navegar, encontrar e extrair as informações desejadas.\n",
    "for link in lista:\n",
    "    try:\n",
    "        #acessar o link\n",
    "        browser.get(link)\n",
    "        try:\n",
    "            #procura no html as classes que contenham a identificação do elemento que procuro.\n",
    "            cargo = browser.find_element(By.XPATH, '//h1[contains(@class, \"top-card-layout__title font-sans text-lg papabear:text-xl font-bold leading-open text-color-text mb-0 topcard__title\")]') \n",
    "            #necessário extrair o texto, caso contrário teria um objeto\n",
    "            cargos.append(cargo.text)\n",
    "            #procura no html pelo botão\n",
    "            exibir_mais = browser.find_element(By.CSS_SELECTOR, '#main-content > section.core-rail > div > div.decorated-job-posting__details > section.core-section-container.my-3.description > div > div.description__text.description__text--rich > section > button.show-more-less-html__button.show-more-less-html__button--more')\n",
    "            #necessário clicar para exibir a informação completa\n",
    "            exibir_mais.click() \n",
    "            #procura por uma classe em questão\n",
    "            descricao = browser.find_element(By.XPATH, '//div[contains(@class, \"show-more-less-html__markup\")]') \n",
    "            #extrair o texto\n",
    "            descricoes.append(descricao.text)\n",
    "            #como existem vários elementos com esta mesma classe, é necessário utilizar o .finf_element*S*.\n",
    "            categoria = browser.find_elements(By.XPATH, '//span[contains(@class, \"description__job-criteria-text description__job-criteria-text--criteria\")]') \n",
    "            #como a variável categoria é uma lista,é necessário utilizar um loop para extrair o texto de cada elemento.  \n",
    "            lista_suporte = []\n",
    "            for topico in categoria: \n",
    "                lista_suporte.append(topico.text)\n",
    "            #cada página terá uma lista de elementos, na lista categoria (nested)\n",
    "            categorias.append(lista_suporte)\n",
    "            #procura por uma classe em questão\n",
    "            empresa = browser.find_element(By.XPATH, '//span[@class=\"topcard__flavor\"]')\n",
    "            empresas.append(empresa.text)\n",
    "            #procura por uma classe em questão\n",
    "            local = browser.find_element(By.XPATH, '//span[@class=\"topcard__flavor topcard__flavor--bullet\"]')\n",
    "            locais.append(local.text)\n",
    "            #tempo para que o linkedin não bloqueie nosso acesso.\n",
    "            time.sleep(3)\n",
    "            #para fins de organização, o link precisa ter mesmo index que as outras observações\n",
    "            links.append(link)\n",
    "        except:\n",
    "            #as vezes o linkedin pede por usuário.\n",
    "            contador_01 += 1\n",
    "            time.sleep(3)\n",
    "    except:\n",
    "        contador_02 += 1\n",
    "print('linkedin pediu por cadastro {} vezes'.format(contador_01))\n",
    "print('falhou ao conectar {} vezes'.format(contador_02))"
   ]
  },
  {
   "cell_type": "markdown",
   "id": "dd6f0973",
   "metadata": {},
   "source": [
    "Verificação"
   ]
  },
  {
   "cell_type": "code",
   "execution_count": 10,
   "id": "4d7d9729",
   "metadata": {},
   "outputs": [
    {
     "name": "stdout",
     "output_type": "stream",
     "text": [
      "812\n",
      "812\n",
      "812\n",
      "812\n",
      "812\n",
      "812\n"
     ]
    }
   ],
   "source": [
    "print(len(cargos))\n",
    "print(len(descricoes))\n",
    "print(len(categorias))\n",
    "print(len(empresas))\n",
    "print(len(links))\n",
    "print(len(locais))"
   ]
  },
  {
   "cell_type": "code",
   "execution_count": 12,
   "id": "d581f398",
   "metadata": {},
   "outputs": [],
   "source": [
    "#criação de um dataframe para melhor manipular os dados.\n",
    "df = pd.DataFrame(list(zip(links, empresas, cargos, categorias, locais, descricoes)), columns=['link','empresas','cargos','categorias','locais', 'descricoes'])"
   ]
  },
  {
   "cell_type": "code",
   "execution_count": 13,
   "id": "7cd01810",
   "metadata": {},
   "outputs": [
    {
     "data": {
      "text/plain": [
       "(812, 6)"
      ]
     },
     "execution_count": 13,
     "metadata": {},
     "output_type": "execute_result"
    }
   ],
   "source": [
    "df.shape"
   ]
  },
  {
   "cell_type": "code",
   "execution_count": 14,
   "id": "05114f3a",
   "metadata": {},
   "outputs": [],
   "source": [
    "df.to_csv('linkedin_table.csv', index = False)"
   ]
  },
  {
   "cell_type": "code",
   "execution_count": 15,
   "id": "4f046134",
   "metadata": {},
   "outputs": [
    {
     "data": {
      "text/html": [
       "<div>\n",
       "<style scoped>\n",
       "    .dataframe tbody tr th:only-of-type {\n",
       "        vertical-align: middle;\n",
       "    }\n",
       "\n",
       "    .dataframe tbody tr th {\n",
       "        vertical-align: top;\n",
       "    }\n",
       "\n",
       "    .dataframe thead th {\n",
       "        text-align: right;\n",
       "    }\n",
       "</style>\n",
       "<table border=\"1\" class=\"dataframe\">\n",
       "  <thead>\n",
       "    <tr style=\"text-align: right;\">\n",
       "      <th></th>\n",
       "      <th>link</th>\n",
       "      <th>empresas</th>\n",
       "      <th>cargos</th>\n",
       "      <th>categorias</th>\n",
       "      <th>locais</th>\n",
       "      <th>descricoes</th>\n",
       "    </tr>\n",
       "  </thead>\n",
       "  <tbody>\n",
       "    <tr>\n",
       "      <th>0</th>\n",
       "      <td>https://br.linkedin.com/jobs/view/cientista-de...</td>\n",
       "      <td>Neogrid</td>\n",
       "      <td>Cientista de Dados Júnior</td>\n",
       "      <td>[Assistente, Tempo integral, Engenharia e Tecn...</td>\n",
       "      <td>Agudos, SP</td>\n",
       "      <td>Nós da Neogrid estamos em busca de pessoas que...</td>\n",
       "    </tr>\n",
       "    <tr>\n",
       "      <th>1</th>\n",
       "      <td>https://br.linkedin.com/jobs/view/analista-de-...</td>\n",
       "      <td>Riachuelo</td>\n",
       "      <td>Analista de Dados Júnior</td>\n",
       "      <td>[Não aplicável, Tempo integral, Tecnologia da ...</td>\n",
       "      <td>Brasil</td>\n",
       "      <td>Aqui na Riachuelo a gente se conecta com @vc! ...</td>\n",
       "    </tr>\n",
       "    <tr>\n",
       "      <th>2</th>\n",
       "      <td>https://br.linkedin.com/jobs/view/analista-de-...</td>\n",
       "      <td>ProjecTI</td>\n",
       "      <td>Analista de Dados Júnior</td>\n",
       "      <td>[Contrato]</td>\n",
       "      <td>São Paulo, SP</td>\n",
       "      <td>Por favor, ler com atenção a descrição.\\n\\nVag...</td>\n",
       "    </tr>\n",
       "    <tr>\n",
       "      <th>3</th>\n",
       "      <td>https://br.linkedin.com/jobs/view/analista-de-...</td>\n",
       "      <td>Grupo Junco - Industria e Comercio</td>\n",
       "      <td>Analista de dados</td>\n",
       "      <td>[Tempo integral]</td>\n",
       "      <td>Uberlândia, MG</td>\n",
       "      <td>Buscamos candidato com perfil analítico, boa c...</td>\n",
       "    </tr>\n",
       "    <tr>\n",
       "      <th>4</th>\n",
       "      <td>https://br.linkedin.com/jobs/view/cientista-de...</td>\n",
       "      <td>EY</td>\n",
       "      <td>Cientista de Dados Júnior 1</td>\n",
       "      <td>[Assistente, Tempo integral, Engenharia e Tecn...</td>\n",
       "      <td>Porto Alegre, RS</td>\n",
       "      <td>Na EY, você terá a chance de construir uma car...</td>\n",
       "    </tr>\n",
       "  </tbody>\n",
       "</table>\n",
       "</div>"
      ],
      "text/plain": [
       "                                                link  \\\n",
       "0  https://br.linkedin.com/jobs/view/cientista-de...   \n",
       "1  https://br.linkedin.com/jobs/view/analista-de-...   \n",
       "2  https://br.linkedin.com/jobs/view/analista-de-...   \n",
       "3  https://br.linkedin.com/jobs/view/analista-de-...   \n",
       "4  https://br.linkedin.com/jobs/view/cientista-de...   \n",
       "\n",
       "                             empresas                       cargos  \\\n",
       "0                             Neogrid    Cientista de Dados Júnior   \n",
       "1                           Riachuelo     Analista de Dados Júnior   \n",
       "2                            ProjecTI     Analista de Dados Júnior   \n",
       "3  Grupo Junco - Industria e Comercio            Analista de dados   \n",
       "4                                  EY  Cientista de Dados Júnior 1   \n",
       "\n",
       "                                          categorias            locais  \\\n",
       "0  [Assistente, Tempo integral, Engenharia e Tecn...        Agudos, SP   \n",
       "1  [Não aplicável, Tempo integral, Tecnologia da ...            Brasil   \n",
       "2                                         [Contrato]     São Paulo, SP   \n",
       "3                                   [Tempo integral]    Uberlândia, MG   \n",
       "4  [Assistente, Tempo integral, Engenharia e Tecn...  Porto Alegre, RS   \n",
       "\n",
       "                                          descricoes  \n",
       "0  Nós da Neogrid estamos em busca de pessoas que...  \n",
       "1  Aqui na Riachuelo a gente se conecta com @vc! ...  \n",
       "2  Por favor, ler com atenção a descrição.\\n\\nVag...  \n",
       "3  Buscamos candidato com perfil analítico, boa c...  \n",
       "4  Na EY, você terá a chance de construir uma car...  "
      ]
     },
     "execution_count": 15,
     "metadata": {},
     "output_type": "execute_result"
    }
   ],
   "source": [
    "df.head()"
   ]
  }
 ],
 "metadata": {
  "kernelspec": {
   "display_name": "Python 3 (ipykernel)",
   "language": "python",
   "name": "python3"
  },
  "language_info": {
   "codemirror_mode": {
    "name": "ipython",
    "version": 3
   },
   "file_extension": ".py",
   "mimetype": "text/x-python",
   "name": "python",
   "nbconvert_exporter": "python",
   "pygments_lexer": "ipython3",
   "version": "3.9.12"
  }
 },
 "nbformat": 4,
 "nbformat_minor": 5
}
