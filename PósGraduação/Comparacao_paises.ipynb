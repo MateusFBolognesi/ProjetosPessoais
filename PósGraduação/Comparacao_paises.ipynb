{
  "nbformat": 4,
  "nbformat_minor": 0,
  "metadata": {
    "colab": {
      "name": "Trilha04Tarefa.ipynb",
      "provenance": [],
      "collapsed_sections": [],
      "toc_visible": true
    },
    "kernelspec": {
      "name": "python3",
      "display_name": "Python 3"
    },
    "language_info": {
      "name": "python"
    }
  },
  "cells": [
    {
      "cell_type": "markdown",
      "source": [
        "Link para notebook    \n",
        "https://colab.research.google.com/drive/1Dh3vCqpgbYyZFqeKDNEniNpxGNIE9fVx#scrollTo=gTIUJWUDSksF"
      ],
      "metadata": {
        "id": "gTIUJWUDSksF"
      }
    },
    {
      "cell_type": "markdown",
      "source": [
        "Os dados escolhidos estavam entre as sugestões do professor. \n",
        "Como gostaria de aplicar o conhecimentos adquiridos, tentei juntar todos os dados de todos os países com todas as variáveis para criar uma solução robusta, isto é, capaz de diversas análises com pouca modificação. "
      ],
      "metadata": {
        "id": "L2PDq2YmVlg-"
      }
    },
    {
      "cell_type": "code",
      "execution_count": null,
      "metadata": {
        "id": "8ToDQKYHqE7l"
      },
      "outputs": [],
      "source": [
        "import requests # para importar \n",
        "import pandas as pd # trabalhar com dataframe\n",
        "import seaborn as sns # graficos\n",
        "import matplotlib.pyplot as plt # graficos\n",
        "import zipfile # utilizar zipfile\n",
        "import os # informacoes sobre os arquivos do diretorio."
      ]
    },
    {
      "cell_type": "code",
      "source": [
        "# para pratricar o que estou vendo no DataCamp, tentarei imoprtar utilizando a biblioteca requests\n",
        "# utilizando o f12 no chrome foi possivel achar o link para o arquivo zip com todas as planilhas\n",
        "url = 'https://wid.world/bulk_download/wid_all_data.zip' \n",
        "# realizando o request\n",
        "r = requests.get(url)  \n",
        "\n",
        "#download das planilhas\n",
        "with open ('data.zip', 'wb') as f:   \n",
        "  f.write(r.content)\n",
        "\n",
        "# acessando o arquivo zip\n",
        "with zipfile.ZipFile('data.zip', 'r') as data_zip:  \n",
        "  #extraidndo todas as listas\n",
        "  data_zip.extractall('data')                       \n",
        "\n"
      ],
      "metadata": {
        "id": "jD0c3HoQqbub"
      },
      "execution_count": null,
      "outputs": []
    },
    {
      "cell_type": "code",
      "source": [
        "cd data"
      ],
      "metadata": {
        "colab": {
          "base_uri": "https://localhost:8080/"
        },
        "id": "nGvYRr4Y2McX",
        "outputId": "c589ac61-71a6-47d8-f69a-6dc1213fda1e"
      },
      "execution_count": null,
      "outputs": [
        {
          "output_type": "stream",
          "name": "stdout",
          "text": [
            "/content/data\n"
          ]
        }
      ]
    },
    {
      "cell_type": "code",
      "source": [
        "# !ls "
      ],
      "metadata": {
        "id": "LMy5O7ps-11T"
      },
      "execution_count": null,
      "outputs": []
    },
    {
      "cell_type": "code",
      "source": [
        "# para acessar arquivos com mais facilidade\n",
        "import glob "
      ],
      "metadata": {
        "id": "wHwXC3U5s2iH"
      },
      "execution_count": null,
      "outputs": []
    },
    {
      "cell_type": "code",
      "source": [
        "#gerar uma comprehensive list para gerar uma lista com todos os nomes dos data_sets.\n",
        "file_extension = '.csv'\n",
        "all_filenames = [i for i in glob.glob(f'*{file_extension}')]"
      ],
      "metadata": {
        "id": "-_-UpD7ogq7u"
      },
      "execution_count": null,
      "outputs": []
    },
    {
      "cell_type": "code",
      "source": [
        "print(all_filenames[: 15])"
      ],
      "metadata": {
        "colab": {
          "base_uri": "https://localhost:8080/"
        },
        "id": "JDS86QfFg9OA",
        "outputId": "493f2135-33da-4dec-dd48-d575d41ebb7e"
      },
      "execution_count": null,
      "outputs": [
        {
          "output_type": "stream",
          "name": "stdout",
          "text": [
            "['WID_data_PH.csv', 'WID_data_UY.csv', 'WID_data_TZ.csv', 'WID_data_GE.csv', 'WID_data_SE.csv', 'WID_metadata_DO.csv', 'WID_data_KW.csv', 'WID_data_YE.csv', 'WID_data_KN.csv', 'WID_metadata_US-MO.csv', 'WID_data_QN-MER.csv', 'WID_data_EC.csv', 'WID_data_GR.csv', 'WID_metadata_XI.csv', 'WID_data_SG.csv']\n"
          ]
        }
      ]
    },
    {
      "cell_type": "code",
      "source": [
        "# separar os arquivos por categoria: metadata, data e o ~resto~\n",
        "data_files = []\n",
        "metadata_files = []\n",
        "desconhecido = []\n",
        "for i in all_filenames:\n",
        "  if 'metadata' in i:\n",
        "    metadata_files.append(i)\n",
        "  elif 'data' in i:\n",
        "    data_files.append(i)\n",
        "  else:\n",
        "    desconhecido.append(i)\n"
      ],
      "metadata": {
        "id": "X8S5r-P2joRr"
      },
      "execution_count": null,
      "outputs": []
    },
    {
      "cell_type": "code",
      "source": [
        "print(data_files[0:5])\n",
        "print(metadata_files[0:5])\n",
        "print(desconhecido[0:5]) # descobrimos que o desconhecido era lista com todos os paises"
      ],
      "metadata": {
        "colab": {
          "base_uri": "https://localhost:8080/"
        },
        "id": "ahraypaAj8z1",
        "outputId": "90efc2fc-d1a0-4cf4-dd41-e301e47a66db"
      },
      "execution_count": null,
      "outputs": [
        {
          "output_type": "stream",
          "name": "stdout",
          "text": [
            "['WID_data_PH.csv', 'WID_data_UY.csv', 'WID_data_TZ.csv', 'WID_data_GE.csv', 'WID_data_SE.csv']\n",
            "['WID_metadata_DO.csv', 'WID_metadata_US-MO.csv', 'WID_metadata_XI.csv', 'WID_metadata_OM.csv', 'WID_metadata_HN.csv']\n",
            "['WID_countries.csv']\n"
          ]
        }
      ]
    },
    {
      "cell_type": "code",
      "source": [
        "#importar, transformar em data frame, e concatenar os arquivos da lista data_files\n",
        "df_data = pd.concat([pd.read_csv(file, delimiter = ';') for file in data_files])"
      ],
      "metadata": {
        "id": "-zT5PJ9wkPDi"
      },
      "execution_count": null,
      "outputs": []
    },
    {
      "cell_type": "code",
      "source": [
        "display(df_data.shape)\n",
        "display(df_data.head())\n",
        "display(df_data.dtypes)"
      ],
      "metadata": {
        "id": "qNmI9YhZwrUg",
        "colab": {
          "base_uri": "https://localhost:8080/",
          "height": 362
        },
        "outputId": "36b373bb-128b-4cfe-de0a-12a96076f278"
      },
      "execution_count": null,
      "outputs": [
        {
          "output_type": "display_data",
          "data": {
            "text/plain": [
              "(30928056, 7)"
            ]
          },
          "metadata": {}
        },
        {
          "output_type": "display_data",
          "data": {
            "text/plain": [
              "  country    variable percentile  year   value  age pop\n",
              "0      PH  ahweal992j     p23p24  1995  5548.4  992   j\n",
              "1      PH  ahweal992j     p23p24  1996  4897.5  992   j\n",
              "2      PH  ahweal992j     p23p24  1997  4415.9  992   j\n",
              "3      PH  ahweal992j     p23p24  1998  4987.6  992   j\n",
              "4      PH  ahweal992j     p23p24  1999  5642.8  992   j"
            ],
            "text/html": [
              "\n",
              "  <div id=\"df-dddc1259-876e-4785-aee4-5c998171175f\">\n",
              "    <div class=\"colab-df-container\">\n",
              "      <div>\n",
              "<style scoped>\n",
              "    .dataframe tbody tr th:only-of-type {\n",
              "        vertical-align: middle;\n",
              "    }\n",
              "\n",
              "    .dataframe tbody tr th {\n",
              "        vertical-align: top;\n",
              "    }\n",
              "\n",
              "    .dataframe thead th {\n",
              "        text-align: right;\n",
              "    }\n",
              "</style>\n",
              "<table border=\"1\" class=\"dataframe\">\n",
              "  <thead>\n",
              "    <tr style=\"text-align: right;\">\n",
              "      <th></th>\n",
              "      <th>country</th>\n",
              "      <th>variable</th>\n",
              "      <th>percentile</th>\n",
              "      <th>year</th>\n",
              "      <th>value</th>\n",
              "      <th>age</th>\n",
              "      <th>pop</th>\n",
              "    </tr>\n",
              "  </thead>\n",
              "  <tbody>\n",
              "    <tr>\n",
              "      <th>0</th>\n",
              "      <td>PH</td>\n",
              "      <td>ahweal992j</td>\n",
              "      <td>p23p24</td>\n",
              "      <td>1995</td>\n",
              "      <td>5548.4</td>\n",
              "      <td>992</td>\n",
              "      <td>j</td>\n",
              "    </tr>\n",
              "    <tr>\n",
              "      <th>1</th>\n",
              "      <td>PH</td>\n",
              "      <td>ahweal992j</td>\n",
              "      <td>p23p24</td>\n",
              "      <td>1996</td>\n",
              "      <td>4897.5</td>\n",
              "      <td>992</td>\n",
              "      <td>j</td>\n",
              "    </tr>\n",
              "    <tr>\n",
              "      <th>2</th>\n",
              "      <td>PH</td>\n",
              "      <td>ahweal992j</td>\n",
              "      <td>p23p24</td>\n",
              "      <td>1997</td>\n",
              "      <td>4415.9</td>\n",
              "      <td>992</td>\n",
              "      <td>j</td>\n",
              "    </tr>\n",
              "    <tr>\n",
              "      <th>3</th>\n",
              "      <td>PH</td>\n",
              "      <td>ahweal992j</td>\n",
              "      <td>p23p24</td>\n",
              "      <td>1998</td>\n",
              "      <td>4987.6</td>\n",
              "      <td>992</td>\n",
              "      <td>j</td>\n",
              "    </tr>\n",
              "    <tr>\n",
              "      <th>4</th>\n",
              "      <td>PH</td>\n",
              "      <td>ahweal992j</td>\n",
              "      <td>p23p24</td>\n",
              "      <td>1999</td>\n",
              "      <td>5642.8</td>\n",
              "      <td>992</td>\n",
              "      <td>j</td>\n",
              "    </tr>\n",
              "  </tbody>\n",
              "</table>\n",
              "</div>\n",
              "      <button class=\"colab-df-convert\" onclick=\"convertToInteractive('df-dddc1259-876e-4785-aee4-5c998171175f')\"\n",
              "              title=\"Convert this dataframe to an interactive table.\"\n",
              "              style=\"display:none;\">\n",
              "        \n",
              "  <svg xmlns=\"http://www.w3.org/2000/svg\" height=\"24px\"viewBox=\"0 0 24 24\"\n",
              "       width=\"24px\">\n",
              "    <path d=\"M0 0h24v24H0V0z\" fill=\"none\"/>\n",
              "    <path d=\"M18.56 5.44l.94 2.06.94-2.06 2.06-.94-2.06-.94-.94-2.06-.94 2.06-2.06.94zm-11 1L8.5 8.5l.94-2.06 2.06-.94-2.06-.94L8.5 2.5l-.94 2.06-2.06.94zm10 10l.94 2.06.94-2.06 2.06-.94-2.06-.94-.94-2.06-.94 2.06-2.06.94z\"/><path d=\"M17.41 7.96l-1.37-1.37c-.4-.4-.92-.59-1.43-.59-.52 0-1.04.2-1.43.59L10.3 9.45l-7.72 7.72c-.78.78-.78 2.05 0 2.83L4 21.41c.39.39.9.59 1.41.59.51 0 1.02-.2 1.41-.59l7.78-7.78 2.81-2.81c.8-.78.8-2.07 0-2.86zM5.41 20L4 18.59l7.72-7.72 1.47 1.35L5.41 20z\"/>\n",
              "  </svg>\n",
              "      </button>\n",
              "      \n",
              "  <style>\n",
              "    .colab-df-container {\n",
              "      display:flex;\n",
              "      flex-wrap:wrap;\n",
              "      gap: 12px;\n",
              "    }\n",
              "\n",
              "    .colab-df-convert {\n",
              "      background-color: #E8F0FE;\n",
              "      border: none;\n",
              "      border-radius: 50%;\n",
              "      cursor: pointer;\n",
              "      display: none;\n",
              "      fill: #1967D2;\n",
              "      height: 32px;\n",
              "      padding: 0 0 0 0;\n",
              "      width: 32px;\n",
              "    }\n",
              "\n",
              "    .colab-df-convert:hover {\n",
              "      background-color: #E2EBFA;\n",
              "      box-shadow: 0px 1px 2px rgba(60, 64, 67, 0.3), 0px 1px 3px 1px rgba(60, 64, 67, 0.15);\n",
              "      fill: #174EA6;\n",
              "    }\n",
              "\n",
              "    [theme=dark] .colab-df-convert {\n",
              "      background-color: #3B4455;\n",
              "      fill: #D2E3FC;\n",
              "    }\n",
              "\n",
              "    [theme=dark] .colab-df-convert:hover {\n",
              "      background-color: #434B5C;\n",
              "      box-shadow: 0px 1px 3px 1px rgba(0, 0, 0, 0.15);\n",
              "      filter: drop-shadow(0px 1px 2px rgba(0, 0, 0, 0.3));\n",
              "      fill: #FFFFFF;\n",
              "    }\n",
              "  </style>\n",
              "\n",
              "      <script>\n",
              "        const buttonEl =\n",
              "          document.querySelector('#df-dddc1259-876e-4785-aee4-5c998171175f button.colab-df-convert');\n",
              "        buttonEl.style.display =\n",
              "          google.colab.kernel.accessAllowed ? 'block' : 'none';\n",
              "\n",
              "        async function convertToInteractive(key) {\n",
              "          const element = document.querySelector('#df-dddc1259-876e-4785-aee4-5c998171175f');\n",
              "          const dataTable =\n",
              "            await google.colab.kernel.invokeFunction('convertToInteractive',\n",
              "                                                     [key], {});\n",
              "          if (!dataTable) return;\n",
              "\n",
              "          const docLinkHtml = 'Like what you see? Visit the ' +\n",
              "            '<a target=\"_blank\" href=https://colab.research.google.com/notebooks/data_table.ipynb>data table notebook</a>'\n",
              "            + ' to learn more about interactive tables.';\n",
              "          element.innerHTML = '';\n",
              "          dataTable['output_type'] = 'display_data';\n",
              "          await google.colab.output.renderOutput(dataTable, element);\n",
              "          const docLink = document.createElement('div');\n",
              "          docLink.innerHTML = docLinkHtml;\n",
              "          element.appendChild(docLink);\n",
              "        }\n",
              "      </script>\n",
              "    </div>\n",
              "  </div>\n",
              "  "
            ]
          },
          "metadata": {}
        },
        {
          "output_type": "display_data",
          "data": {
            "text/plain": [
              "country        object\n",
              "variable       object\n",
              "percentile     object\n",
              "year            int64\n",
              "value         float64\n",
              "age             int64\n",
              "pop            object\n",
              "dtype: object"
            ]
          },
          "metadata": {}
        }
      ]
    },
    {
      "cell_type": "code",
      "source": [
        "a = pd.read_csv('WID_metadata_AD.csv', delimiter = ';', encoding = 'cp1250').shape\n",
        "b = pd.read_csv('WID_metadata_AE.csv', delimiter = ';', encoding = 'cp1250').shape\n",
        "c = pd.read_csv('WID_metadata_AG.csv', delimiter = ';', encoding = 'cp1250').shape\n",
        "display(a, b, c)"
      ],
      "metadata": {
        "id": "cLwwVrsGhEb1",
        "colab": {
          "base_uri": "https://localhost:8080/",
          "height": 69
        },
        "outputId": "dce84284-d229-4069-b063-df614fd50ee6"
      },
      "execution_count": null,
      "outputs": [
        {
          "output_type": "display_data",
          "data": {
            "text/plain": [
              "(56, 19)"
            ]
          },
          "metadata": {}
        },
        {
          "output_type": "display_data",
          "data": {
            "text/plain": [
              "(266, 19)"
            ]
          },
          "metadata": {}
        },
        {
          "output_type": "display_data",
          "data": {
            "text/plain": [
              "(300, 19)"
            ]
          },
          "metadata": {}
        }
      ]
    },
    {
      "cell_type": "code",
      "source": [
        "#importar, transformar em data frame, e concatenar os arquivos da lista metadata_files\n",
        "df_metadata = pd.concat([pd.read_csv(file, delimiter = ';', encoding = 'cp1250') for file in metadata_files])"
      ],
      "metadata": {
        "id": "PnZa_DzCsSHw"
      },
      "execution_count": null,
      "outputs": []
    },
    {
      "cell_type": "code",
      "source": [
        "display(df_metadata.head())"
      ],
      "metadata": {
        "id": "-fdY7fIIiZ0D",
        "colab": {
          "base_uri": "https://localhost:8080/",
          "height": 424
        },
        "outputId": "aafc1f73-47cc-4f72-b79b-8a9cc01b2422"
      },
      "execution_count": null,
      "outputs": [
        {
          "output_type": "display_data",
          "data": {
            "text/plain": [
              "  country    variable  age pop             countryname  \\\n",
              "0      DO  accmhni992  992   i  the Dominican Republic   \n",
              "1      DO  accmhni999  999   i  the Dominican Republic   \n",
              "2      DO  accmhoi992  992   i  the Dominican Republic   \n",
              "3      DO  accmhoi999  999   i  the Dominican Republic   \n",
              "4      DO  accshni992  992   i  the Dominican Republic   \n",
              "\n",
              "                                           shortname simpledes technicaldes  \\\n",
              "0  Consumption of fixed capital attributable to m...       NaN          NaN   \n",
              "1  Consumption of fixed capital attributable to m...       NaN          NaN   \n",
              "2  Consumption of fixed capital attributable to m...       NaN          NaN   \n",
              "3  Consumption of fixed capital attributable to m...       NaN          NaN   \n",
              "4  Consumption of fixed capital attributable to o...       NaN          NaN   \n",
              "\n",
              "  shorttype                                           longtype     shortpop  \\\n",
              "0   Average  Average income or wealth between two percentil...  individuals   \n",
              "1   Average  Average income or wealth between two percentil...  individuals   \n",
              "2   Average  Average income or wealth between two percentil...  individuals   \n",
              "3   Average  Average income or wealth between two percentil...  individuals   \n",
              "4   Average  Average income or wealth between two percentil...  individuals   \n",
              "\n",
              "                                             longpop  shortage  \\\n",
              "0  The base unit is the individual (rather than t...    Adults   \n",
              "1  The base unit is the individual (rather than t...  All Ages   \n",
              "2  The base unit is the individual (rather than t...    Adults   \n",
              "3  The base unit is the individual (rather than t...  All Ages   \n",
              "4  The base unit is the individual (rather than t...    Adults   \n",
              "\n",
              "                                             longage unit  \\\n",
              "0  The population is comprised of individuals ove...  DOP   \n",
              "1  The population is comprised of individuals of ...  DOP   \n",
              "2  The population is comprised of individuals ove...  DOP   \n",
              "3  The population is comprised of individuals of ...  DOP   \n",
              "4  The population is comprised of individuals ove...  DOP   \n",
              "\n",
              "                                              source  \\\n",
              "0  See [URL][URL_LINK]https://wid.world/document/...   \n",
              "1  See [URL][URL_LINK]https://wid.world/document/...   \n",
              "2  See [URL][URL_LINK]https://wid.world/document/...   \n",
              "3  See [URL][URL_LINK]https://wid.world/document/...   \n",
              "4  See [URL][URL_LINK]https://wid.world/document/...   \n",
              "\n",
              "                                              method extrapolation data_points  \n",
              "0  WID.world estimations as a proportion of GDP b...           NaN         NaN  \n",
              "1  WID.world estimations as a proportion of GDP b...           NaN         NaN  \n",
              "2  WID.world estimations as a proportion of GDP b...           NaN         NaN  \n",
              "3  WID.world estimations as a proportion of GDP b...           NaN         NaN  \n",
              "4  WID.world estimations as a proportion of GDP b...           NaN         NaN  "
            ],
            "text/html": [
              "\n",
              "  <div id=\"df-4634b787-cadb-4b92-a158-c7076fbc3183\">\n",
              "    <div class=\"colab-df-container\">\n",
              "      <div>\n",
              "<style scoped>\n",
              "    .dataframe tbody tr th:only-of-type {\n",
              "        vertical-align: middle;\n",
              "    }\n",
              "\n",
              "    .dataframe tbody tr th {\n",
              "        vertical-align: top;\n",
              "    }\n",
              "\n",
              "    .dataframe thead th {\n",
              "        text-align: right;\n",
              "    }\n",
              "</style>\n",
              "<table border=\"1\" class=\"dataframe\">\n",
              "  <thead>\n",
              "    <tr style=\"text-align: right;\">\n",
              "      <th></th>\n",
              "      <th>country</th>\n",
              "      <th>variable</th>\n",
              "      <th>age</th>\n",
              "      <th>pop</th>\n",
              "      <th>countryname</th>\n",
              "      <th>shortname</th>\n",
              "      <th>simpledes</th>\n",
              "      <th>technicaldes</th>\n",
              "      <th>shorttype</th>\n",
              "      <th>longtype</th>\n",
              "      <th>shortpop</th>\n",
              "      <th>longpop</th>\n",
              "      <th>shortage</th>\n",
              "      <th>longage</th>\n",
              "      <th>unit</th>\n",
              "      <th>source</th>\n",
              "      <th>method</th>\n",
              "      <th>extrapolation</th>\n",
              "      <th>data_points</th>\n",
              "    </tr>\n",
              "  </thead>\n",
              "  <tbody>\n",
              "    <tr>\n",
              "      <th>0</th>\n",
              "      <td>DO</td>\n",
              "      <td>accmhni992</td>\n",
              "      <td>992</td>\n",
              "      <td>i</td>\n",
              "      <td>the Dominican Republic</td>\n",
              "      <td>Consumption of fixed capital attributable to m...</td>\n",
              "      <td>NaN</td>\n",
              "      <td>NaN</td>\n",
              "      <td>Average</td>\n",
              "      <td>Average income or wealth between two percentil...</td>\n",
              "      <td>individuals</td>\n",
              "      <td>The base unit is the individual (rather than t...</td>\n",
              "      <td>Adults</td>\n",
              "      <td>The population is comprised of individuals ove...</td>\n",
              "      <td>DOP</td>\n",
              "      <td>See [URL][URL_LINK]https://wid.world/document/...</td>\n",
              "      <td>WID.world estimations as a proportion of GDP b...</td>\n",
              "      <td>NaN</td>\n",
              "      <td>NaN</td>\n",
              "    </tr>\n",
              "    <tr>\n",
              "      <th>1</th>\n",
              "      <td>DO</td>\n",
              "      <td>accmhni999</td>\n",
              "      <td>999</td>\n",
              "      <td>i</td>\n",
              "      <td>the Dominican Republic</td>\n",
              "      <td>Consumption of fixed capital attributable to m...</td>\n",
              "      <td>NaN</td>\n",
              "      <td>NaN</td>\n",
              "      <td>Average</td>\n",
              "      <td>Average income or wealth between two percentil...</td>\n",
              "      <td>individuals</td>\n",
              "      <td>The base unit is the individual (rather than t...</td>\n",
              "      <td>All Ages</td>\n",
              "      <td>The population is comprised of individuals of ...</td>\n",
              "      <td>DOP</td>\n",
              "      <td>See [URL][URL_LINK]https://wid.world/document/...</td>\n",
              "      <td>WID.world estimations as a proportion of GDP b...</td>\n",
              "      <td>NaN</td>\n",
              "      <td>NaN</td>\n",
              "    </tr>\n",
              "    <tr>\n",
              "      <th>2</th>\n",
              "      <td>DO</td>\n",
              "      <td>accmhoi992</td>\n",
              "      <td>992</td>\n",
              "      <td>i</td>\n",
              "      <td>the Dominican Republic</td>\n",
              "      <td>Consumption of fixed capital attributable to m...</td>\n",
              "      <td>NaN</td>\n",
              "      <td>NaN</td>\n",
              "      <td>Average</td>\n",
              "      <td>Average income or wealth between two percentil...</td>\n",
              "      <td>individuals</td>\n",
              "      <td>The base unit is the individual (rather than t...</td>\n",
              "      <td>Adults</td>\n",
              "      <td>The population is comprised of individuals ove...</td>\n",
              "      <td>DOP</td>\n",
              "      <td>See [URL][URL_LINK]https://wid.world/document/...</td>\n",
              "      <td>WID.world estimations as a proportion of GDP b...</td>\n",
              "      <td>NaN</td>\n",
              "      <td>NaN</td>\n",
              "    </tr>\n",
              "    <tr>\n",
              "      <th>3</th>\n",
              "      <td>DO</td>\n",
              "      <td>accmhoi999</td>\n",
              "      <td>999</td>\n",
              "      <td>i</td>\n",
              "      <td>the Dominican Republic</td>\n",
              "      <td>Consumption of fixed capital attributable to m...</td>\n",
              "      <td>NaN</td>\n",
              "      <td>NaN</td>\n",
              "      <td>Average</td>\n",
              "      <td>Average income or wealth between two percentil...</td>\n",
              "      <td>individuals</td>\n",
              "      <td>The base unit is the individual (rather than t...</td>\n",
              "      <td>All Ages</td>\n",
              "      <td>The population is comprised of individuals of ...</td>\n",
              "      <td>DOP</td>\n",
              "      <td>See [URL][URL_LINK]https://wid.world/document/...</td>\n",
              "      <td>WID.world estimations as a proportion of GDP b...</td>\n",
              "      <td>NaN</td>\n",
              "      <td>NaN</td>\n",
              "    </tr>\n",
              "    <tr>\n",
              "      <th>4</th>\n",
              "      <td>DO</td>\n",
              "      <td>accshni992</td>\n",
              "      <td>992</td>\n",
              "      <td>i</td>\n",
              "      <td>the Dominican Republic</td>\n",
              "      <td>Consumption of fixed capital attributable to o...</td>\n",
              "      <td>NaN</td>\n",
              "      <td>NaN</td>\n",
              "      <td>Average</td>\n",
              "      <td>Average income or wealth between two percentil...</td>\n",
              "      <td>individuals</td>\n",
              "      <td>The base unit is the individual (rather than t...</td>\n",
              "      <td>Adults</td>\n",
              "      <td>The population is comprised of individuals ove...</td>\n",
              "      <td>DOP</td>\n",
              "      <td>See [URL][URL_LINK]https://wid.world/document/...</td>\n",
              "      <td>WID.world estimations as a proportion of GDP b...</td>\n",
              "      <td>NaN</td>\n",
              "      <td>NaN</td>\n",
              "    </tr>\n",
              "  </tbody>\n",
              "</table>\n",
              "</div>\n",
              "      <button class=\"colab-df-convert\" onclick=\"convertToInteractive('df-4634b787-cadb-4b92-a158-c7076fbc3183')\"\n",
              "              title=\"Convert this dataframe to an interactive table.\"\n",
              "              style=\"display:none;\">\n",
              "        \n",
              "  <svg xmlns=\"http://www.w3.org/2000/svg\" height=\"24px\"viewBox=\"0 0 24 24\"\n",
              "       width=\"24px\">\n",
              "    <path d=\"M0 0h24v24H0V0z\" fill=\"none\"/>\n",
              "    <path d=\"M18.56 5.44l.94 2.06.94-2.06 2.06-.94-2.06-.94-.94-2.06-.94 2.06-2.06.94zm-11 1L8.5 8.5l.94-2.06 2.06-.94-2.06-.94L8.5 2.5l-.94 2.06-2.06.94zm10 10l.94 2.06.94-2.06 2.06-.94-2.06-.94-.94-2.06-.94 2.06-2.06.94z\"/><path d=\"M17.41 7.96l-1.37-1.37c-.4-.4-.92-.59-1.43-.59-.52 0-1.04.2-1.43.59L10.3 9.45l-7.72 7.72c-.78.78-.78 2.05 0 2.83L4 21.41c.39.39.9.59 1.41.59.51 0 1.02-.2 1.41-.59l7.78-7.78 2.81-2.81c.8-.78.8-2.07 0-2.86zM5.41 20L4 18.59l7.72-7.72 1.47 1.35L5.41 20z\"/>\n",
              "  </svg>\n",
              "      </button>\n",
              "      \n",
              "  <style>\n",
              "    .colab-df-container {\n",
              "      display:flex;\n",
              "      flex-wrap:wrap;\n",
              "      gap: 12px;\n",
              "    }\n",
              "\n",
              "    .colab-df-convert {\n",
              "      background-color: #E8F0FE;\n",
              "      border: none;\n",
              "      border-radius: 50%;\n",
              "      cursor: pointer;\n",
              "      display: none;\n",
              "      fill: #1967D2;\n",
              "      height: 32px;\n",
              "      padding: 0 0 0 0;\n",
              "      width: 32px;\n",
              "    }\n",
              "\n",
              "    .colab-df-convert:hover {\n",
              "      background-color: #E2EBFA;\n",
              "      box-shadow: 0px 1px 2px rgba(60, 64, 67, 0.3), 0px 1px 3px 1px rgba(60, 64, 67, 0.15);\n",
              "      fill: #174EA6;\n",
              "    }\n",
              "\n",
              "    [theme=dark] .colab-df-convert {\n",
              "      background-color: #3B4455;\n",
              "      fill: #D2E3FC;\n",
              "    }\n",
              "\n",
              "    [theme=dark] .colab-df-convert:hover {\n",
              "      background-color: #434B5C;\n",
              "      box-shadow: 0px 1px 3px 1px rgba(0, 0, 0, 0.15);\n",
              "      filter: drop-shadow(0px 1px 2px rgba(0, 0, 0, 0.3));\n",
              "      fill: #FFFFFF;\n",
              "    }\n",
              "  </style>\n",
              "\n",
              "      <script>\n",
              "        const buttonEl =\n",
              "          document.querySelector('#df-4634b787-cadb-4b92-a158-c7076fbc3183 button.colab-df-convert');\n",
              "        buttonEl.style.display =\n",
              "          google.colab.kernel.accessAllowed ? 'block' : 'none';\n",
              "\n",
              "        async function convertToInteractive(key) {\n",
              "          const element = document.querySelector('#df-4634b787-cadb-4b92-a158-c7076fbc3183');\n",
              "          const dataTable =\n",
              "            await google.colab.kernel.invokeFunction('convertToInteractive',\n",
              "                                                     [key], {});\n",
              "          if (!dataTable) return;\n",
              "\n",
              "          const docLinkHtml = 'Like what you see? Visit the ' +\n",
              "            '<a target=\"_blank\" href=https://colab.research.google.com/notebooks/data_table.ipynb>data table notebook</a>'\n",
              "            + ' to learn more about interactive tables.';\n",
              "          element.innerHTML = '';\n",
              "          dataTable['output_type'] = 'display_data';\n",
              "          await google.colab.output.renderOutput(dataTable, element);\n",
              "          const docLink = document.createElement('div');\n",
              "          docLink.innerHTML = docLinkHtml;\n",
              "          element.appendChild(docLink);\n",
              "        }\n",
              "      </script>\n",
              "    </div>\n",
              "  </div>\n",
              "  "
            ]
          },
          "metadata": {}
        }
      ]
    },
    {
      "cell_type": "code",
      "source": [
        "#importar, transformar em data frame, e concatenar os arquivos da lista desconhecido\n",
        "#seguindo o mesmo padrão dos outros, menos tendo só um arquivo\n",
        "df_countries = pd.concat([pd.read_csv(file, delimiter = ';') for file in desconhecido])"
      ],
      "metadata": {
        "id": "sPVuaYT7xPWW"
      },
      "execution_count": null,
      "outputs": []
    },
    {
      "cell_type": "code",
      "source": [
        "display(df_countries.shape)\n",
        "display(df_countries.head())\n",
        "display(df_countries.dtypes)"
      ],
      "metadata": {
        "id": "ztgqTrZdxy27",
        "colab": {
          "base_uri": "https://localhost:8080/",
          "height": 328
        },
        "outputId": "7e312aa3-0ef4-40d7-d46f-a7cb79a5a015"
      },
      "execution_count": null,
      "outputs": [
        {
          "output_type": "display_data",
          "data": {
            "text/plain": [
              "(385, 5)"
            ]
          },
          "metadata": {}
        },
        {
          "output_type": "display_data",
          "data": {
            "text/plain": [
              "  alpha2                 titlename             shortname    region  \\\n",
              "0     AM                   Armenia               Armenia      Asia   \n",
              "1     AN  the Netherlands Antilles  Netherlands Antilles  Americas   \n",
              "2     BT                    Bhutan                Bhutan      Asia   \n",
              "3     ER                   Eritrea               Eritrea    Africa   \n",
              "4     ES                     Spain                 Spain    Europe   \n",
              "\n",
              "          region2  \n",
              "0       West Asia  \n",
              "1       Caribbean  \n",
              "2      South Asia  \n",
              "3     East Africa  \n",
              "4  Western Europe  "
            ],
            "text/html": [
              "\n",
              "  <div id=\"df-cd6d3a55-7ef8-43f3-ab5f-b64bb899a67e\">\n",
              "    <div class=\"colab-df-container\">\n",
              "      <div>\n",
              "<style scoped>\n",
              "    .dataframe tbody tr th:only-of-type {\n",
              "        vertical-align: middle;\n",
              "    }\n",
              "\n",
              "    .dataframe tbody tr th {\n",
              "        vertical-align: top;\n",
              "    }\n",
              "\n",
              "    .dataframe thead th {\n",
              "        text-align: right;\n",
              "    }\n",
              "</style>\n",
              "<table border=\"1\" class=\"dataframe\">\n",
              "  <thead>\n",
              "    <tr style=\"text-align: right;\">\n",
              "      <th></th>\n",
              "      <th>alpha2</th>\n",
              "      <th>titlename</th>\n",
              "      <th>shortname</th>\n",
              "      <th>region</th>\n",
              "      <th>region2</th>\n",
              "    </tr>\n",
              "  </thead>\n",
              "  <tbody>\n",
              "    <tr>\n",
              "      <th>0</th>\n",
              "      <td>AM</td>\n",
              "      <td>Armenia</td>\n",
              "      <td>Armenia</td>\n",
              "      <td>Asia</td>\n",
              "      <td>West Asia</td>\n",
              "    </tr>\n",
              "    <tr>\n",
              "      <th>1</th>\n",
              "      <td>AN</td>\n",
              "      <td>the Netherlands Antilles</td>\n",
              "      <td>Netherlands Antilles</td>\n",
              "      <td>Americas</td>\n",
              "      <td>Caribbean</td>\n",
              "    </tr>\n",
              "    <tr>\n",
              "      <th>2</th>\n",
              "      <td>BT</td>\n",
              "      <td>Bhutan</td>\n",
              "      <td>Bhutan</td>\n",
              "      <td>Asia</td>\n",
              "      <td>South Asia</td>\n",
              "    </tr>\n",
              "    <tr>\n",
              "      <th>3</th>\n",
              "      <td>ER</td>\n",
              "      <td>Eritrea</td>\n",
              "      <td>Eritrea</td>\n",
              "      <td>Africa</td>\n",
              "      <td>East Africa</td>\n",
              "    </tr>\n",
              "    <tr>\n",
              "      <th>4</th>\n",
              "      <td>ES</td>\n",
              "      <td>Spain</td>\n",
              "      <td>Spain</td>\n",
              "      <td>Europe</td>\n",
              "      <td>Western Europe</td>\n",
              "    </tr>\n",
              "  </tbody>\n",
              "</table>\n",
              "</div>\n",
              "      <button class=\"colab-df-convert\" onclick=\"convertToInteractive('df-cd6d3a55-7ef8-43f3-ab5f-b64bb899a67e')\"\n",
              "              title=\"Convert this dataframe to an interactive table.\"\n",
              "              style=\"display:none;\">\n",
              "        \n",
              "  <svg xmlns=\"http://www.w3.org/2000/svg\" height=\"24px\"viewBox=\"0 0 24 24\"\n",
              "       width=\"24px\">\n",
              "    <path d=\"M0 0h24v24H0V0z\" fill=\"none\"/>\n",
              "    <path d=\"M18.56 5.44l.94 2.06.94-2.06 2.06-.94-2.06-.94-.94-2.06-.94 2.06-2.06.94zm-11 1L8.5 8.5l.94-2.06 2.06-.94-2.06-.94L8.5 2.5l-.94 2.06-2.06.94zm10 10l.94 2.06.94-2.06 2.06-.94-2.06-.94-.94-2.06-.94 2.06-2.06.94z\"/><path d=\"M17.41 7.96l-1.37-1.37c-.4-.4-.92-.59-1.43-.59-.52 0-1.04.2-1.43.59L10.3 9.45l-7.72 7.72c-.78.78-.78 2.05 0 2.83L4 21.41c.39.39.9.59 1.41.59.51 0 1.02-.2 1.41-.59l7.78-7.78 2.81-2.81c.8-.78.8-2.07 0-2.86zM5.41 20L4 18.59l7.72-7.72 1.47 1.35L5.41 20z\"/>\n",
              "  </svg>\n",
              "      </button>\n",
              "      \n",
              "  <style>\n",
              "    .colab-df-container {\n",
              "      display:flex;\n",
              "      flex-wrap:wrap;\n",
              "      gap: 12px;\n",
              "    }\n",
              "\n",
              "    .colab-df-convert {\n",
              "      background-color: #E8F0FE;\n",
              "      border: none;\n",
              "      border-radius: 50%;\n",
              "      cursor: pointer;\n",
              "      display: none;\n",
              "      fill: #1967D2;\n",
              "      height: 32px;\n",
              "      padding: 0 0 0 0;\n",
              "      width: 32px;\n",
              "    }\n",
              "\n",
              "    .colab-df-convert:hover {\n",
              "      background-color: #E2EBFA;\n",
              "      box-shadow: 0px 1px 2px rgba(60, 64, 67, 0.3), 0px 1px 3px 1px rgba(60, 64, 67, 0.15);\n",
              "      fill: #174EA6;\n",
              "    }\n",
              "\n",
              "    [theme=dark] .colab-df-convert {\n",
              "      background-color: #3B4455;\n",
              "      fill: #D2E3FC;\n",
              "    }\n",
              "\n",
              "    [theme=dark] .colab-df-convert:hover {\n",
              "      background-color: #434B5C;\n",
              "      box-shadow: 0px 1px 3px 1px rgba(0, 0, 0, 0.15);\n",
              "      filter: drop-shadow(0px 1px 2px rgba(0, 0, 0, 0.3));\n",
              "      fill: #FFFFFF;\n",
              "    }\n",
              "  </style>\n",
              "\n",
              "      <script>\n",
              "        const buttonEl =\n",
              "          document.querySelector('#df-cd6d3a55-7ef8-43f3-ab5f-b64bb899a67e button.colab-df-convert');\n",
              "        buttonEl.style.display =\n",
              "          google.colab.kernel.accessAllowed ? 'block' : 'none';\n",
              "\n",
              "        async function convertToInteractive(key) {\n",
              "          const element = document.querySelector('#df-cd6d3a55-7ef8-43f3-ab5f-b64bb899a67e');\n",
              "          const dataTable =\n",
              "            await google.colab.kernel.invokeFunction('convertToInteractive',\n",
              "                                                     [key], {});\n",
              "          if (!dataTable) return;\n",
              "\n",
              "          const docLinkHtml = 'Like what you see? Visit the ' +\n",
              "            '<a target=\"_blank\" href=https://colab.research.google.com/notebooks/data_table.ipynb>data table notebook</a>'\n",
              "            + ' to learn more about interactive tables.';\n",
              "          element.innerHTML = '';\n",
              "          dataTable['output_type'] = 'display_data';\n",
              "          await google.colab.output.renderOutput(dataTable, element);\n",
              "          const docLink = document.createElement('div');\n",
              "          docLink.innerHTML = docLinkHtml;\n",
              "          element.appendChild(docLink);\n",
              "        }\n",
              "      </script>\n",
              "    </div>\n",
              "  </div>\n",
              "  "
            ]
          },
          "metadata": {}
        },
        {
          "output_type": "display_data",
          "data": {
            "text/plain": [
              "alpha2       object\n",
              "titlename    object\n",
              "shortname    object\n",
              "region       object\n",
              "region2      object\n",
              "dtype: object"
            ]
          },
          "metadata": {}
        }
      ]
    },
    {
      "cell_type": "code",
      "source": [
        "# no data frame ~countries~ há o nome dos paises e outras informações relavantes para a análise. \n",
        "#Para juntar essas informações foi utilizado o merge ~country~ no caso do df_data e ~alpha2~ no caso df_countries)\n",
        "df_merged = df_data.merge(df_countries, left_on = 'country', right_on = 'alpha2')"
      ],
      "metadata": {
        "id": "JlGjxBfzyzOn"
      },
      "execution_count": null,
      "outputs": []
    },
    {
      "cell_type": "code",
      "source": [
        "display(df_merged.head())"
      ],
      "metadata": {
        "id": "VIiE91sV0v2e",
        "colab": {
          "base_uri": "https://localhost:8080/",
          "height": 206
        },
        "outputId": "4cc0ecef-f5a3-4190-93a4-b0671af7be6f"
      },
      "execution_count": null,
      "outputs": [
        {
          "output_type": "display_data",
          "data": {
            "text/plain": [
              "  country    variable percentile  year   value  age pop alpha2  \\\n",
              "0      PH  ahweal992j     p23p24  1995  5548.4  992   j     PH   \n",
              "1      PH  ahweal992j     p23p24  1996  4897.5  992   j     PH   \n",
              "2      PH  ahweal992j     p23p24  1997  4415.9  992   j     PH   \n",
              "3      PH  ahweal992j     p23p24  1998  4987.6  992   j     PH   \n",
              "4      PH  ahweal992j     p23p24  1999  5642.8  992   j     PH   \n",
              "\n",
              "         titlename    shortname region          region2  \n",
              "0  the Philippines  Philippines   Asia  South-East Asia  \n",
              "1  the Philippines  Philippines   Asia  South-East Asia  \n",
              "2  the Philippines  Philippines   Asia  South-East Asia  \n",
              "3  the Philippines  Philippines   Asia  South-East Asia  \n",
              "4  the Philippines  Philippines   Asia  South-East Asia  "
            ],
            "text/html": [
              "\n",
              "  <div id=\"df-396a661b-667d-4fc9-b2a3-a0daa01e11de\">\n",
              "    <div class=\"colab-df-container\">\n",
              "      <div>\n",
              "<style scoped>\n",
              "    .dataframe tbody tr th:only-of-type {\n",
              "        vertical-align: middle;\n",
              "    }\n",
              "\n",
              "    .dataframe tbody tr th {\n",
              "        vertical-align: top;\n",
              "    }\n",
              "\n",
              "    .dataframe thead th {\n",
              "        text-align: right;\n",
              "    }\n",
              "</style>\n",
              "<table border=\"1\" class=\"dataframe\">\n",
              "  <thead>\n",
              "    <tr style=\"text-align: right;\">\n",
              "      <th></th>\n",
              "      <th>country</th>\n",
              "      <th>variable</th>\n",
              "      <th>percentile</th>\n",
              "      <th>year</th>\n",
              "      <th>value</th>\n",
              "      <th>age</th>\n",
              "      <th>pop</th>\n",
              "      <th>alpha2</th>\n",
              "      <th>titlename</th>\n",
              "      <th>shortname</th>\n",
              "      <th>region</th>\n",
              "      <th>region2</th>\n",
              "    </tr>\n",
              "  </thead>\n",
              "  <tbody>\n",
              "    <tr>\n",
              "      <th>0</th>\n",
              "      <td>PH</td>\n",
              "      <td>ahweal992j</td>\n",
              "      <td>p23p24</td>\n",
              "      <td>1995</td>\n",
              "      <td>5548.4</td>\n",
              "      <td>992</td>\n",
              "      <td>j</td>\n",
              "      <td>PH</td>\n",
              "      <td>the Philippines</td>\n",
              "      <td>Philippines</td>\n",
              "      <td>Asia</td>\n",
              "      <td>South-East Asia</td>\n",
              "    </tr>\n",
              "    <tr>\n",
              "      <th>1</th>\n",
              "      <td>PH</td>\n",
              "      <td>ahweal992j</td>\n",
              "      <td>p23p24</td>\n",
              "      <td>1996</td>\n",
              "      <td>4897.5</td>\n",
              "      <td>992</td>\n",
              "      <td>j</td>\n",
              "      <td>PH</td>\n",
              "      <td>the Philippines</td>\n",
              "      <td>Philippines</td>\n",
              "      <td>Asia</td>\n",
              "      <td>South-East Asia</td>\n",
              "    </tr>\n",
              "    <tr>\n",
              "      <th>2</th>\n",
              "      <td>PH</td>\n",
              "      <td>ahweal992j</td>\n",
              "      <td>p23p24</td>\n",
              "      <td>1997</td>\n",
              "      <td>4415.9</td>\n",
              "      <td>992</td>\n",
              "      <td>j</td>\n",
              "      <td>PH</td>\n",
              "      <td>the Philippines</td>\n",
              "      <td>Philippines</td>\n",
              "      <td>Asia</td>\n",
              "      <td>South-East Asia</td>\n",
              "    </tr>\n",
              "    <tr>\n",
              "      <th>3</th>\n",
              "      <td>PH</td>\n",
              "      <td>ahweal992j</td>\n",
              "      <td>p23p24</td>\n",
              "      <td>1998</td>\n",
              "      <td>4987.6</td>\n",
              "      <td>992</td>\n",
              "      <td>j</td>\n",
              "      <td>PH</td>\n",
              "      <td>the Philippines</td>\n",
              "      <td>Philippines</td>\n",
              "      <td>Asia</td>\n",
              "      <td>South-East Asia</td>\n",
              "    </tr>\n",
              "    <tr>\n",
              "      <th>4</th>\n",
              "      <td>PH</td>\n",
              "      <td>ahweal992j</td>\n",
              "      <td>p23p24</td>\n",
              "      <td>1999</td>\n",
              "      <td>5642.8</td>\n",
              "      <td>992</td>\n",
              "      <td>j</td>\n",
              "      <td>PH</td>\n",
              "      <td>the Philippines</td>\n",
              "      <td>Philippines</td>\n",
              "      <td>Asia</td>\n",
              "      <td>South-East Asia</td>\n",
              "    </tr>\n",
              "  </tbody>\n",
              "</table>\n",
              "</div>\n",
              "      <button class=\"colab-df-convert\" onclick=\"convertToInteractive('df-396a661b-667d-4fc9-b2a3-a0daa01e11de')\"\n",
              "              title=\"Convert this dataframe to an interactive table.\"\n",
              "              style=\"display:none;\">\n",
              "        \n",
              "  <svg xmlns=\"http://www.w3.org/2000/svg\" height=\"24px\"viewBox=\"0 0 24 24\"\n",
              "       width=\"24px\">\n",
              "    <path d=\"M0 0h24v24H0V0z\" fill=\"none\"/>\n",
              "    <path d=\"M18.56 5.44l.94 2.06.94-2.06 2.06-.94-2.06-.94-.94-2.06-.94 2.06-2.06.94zm-11 1L8.5 8.5l.94-2.06 2.06-.94-2.06-.94L8.5 2.5l-.94 2.06-2.06.94zm10 10l.94 2.06.94-2.06 2.06-.94-2.06-.94-.94-2.06-.94 2.06-2.06.94z\"/><path d=\"M17.41 7.96l-1.37-1.37c-.4-.4-.92-.59-1.43-.59-.52 0-1.04.2-1.43.59L10.3 9.45l-7.72 7.72c-.78.78-.78 2.05 0 2.83L4 21.41c.39.39.9.59 1.41.59.51 0 1.02-.2 1.41-.59l7.78-7.78 2.81-2.81c.8-.78.8-2.07 0-2.86zM5.41 20L4 18.59l7.72-7.72 1.47 1.35L5.41 20z\"/>\n",
              "  </svg>\n",
              "      </button>\n",
              "      \n",
              "  <style>\n",
              "    .colab-df-container {\n",
              "      display:flex;\n",
              "      flex-wrap:wrap;\n",
              "      gap: 12px;\n",
              "    }\n",
              "\n",
              "    .colab-df-convert {\n",
              "      background-color: #E8F0FE;\n",
              "      border: none;\n",
              "      border-radius: 50%;\n",
              "      cursor: pointer;\n",
              "      display: none;\n",
              "      fill: #1967D2;\n",
              "      height: 32px;\n",
              "      padding: 0 0 0 0;\n",
              "      width: 32px;\n",
              "    }\n",
              "\n",
              "    .colab-df-convert:hover {\n",
              "      background-color: #E2EBFA;\n",
              "      box-shadow: 0px 1px 2px rgba(60, 64, 67, 0.3), 0px 1px 3px 1px rgba(60, 64, 67, 0.15);\n",
              "      fill: #174EA6;\n",
              "    }\n",
              "\n",
              "    [theme=dark] .colab-df-convert {\n",
              "      background-color: #3B4455;\n",
              "      fill: #D2E3FC;\n",
              "    }\n",
              "\n",
              "    [theme=dark] .colab-df-convert:hover {\n",
              "      background-color: #434B5C;\n",
              "      box-shadow: 0px 1px 3px 1px rgba(0, 0, 0, 0.15);\n",
              "      filter: drop-shadow(0px 1px 2px rgba(0, 0, 0, 0.3));\n",
              "      fill: #FFFFFF;\n",
              "    }\n",
              "  </style>\n",
              "\n",
              "      <script>\n",
              "        const buttonEl =\n",
              "          document.querySelector('#df-396a661b-667d-4fc9-b2a3-a0daa01e11de button.colab-df-convert');\n",
              "        buttonEl.style.display =\n",
              "          google.colab.kernel.accessAllowed ? 'block' : 'none';\n",
              "\n",
              "        async function convertToInteractive(key) {\n",
              "          const element = document.querySelector('#df-396a661b-667d-4fc9-b2a3-a0daa01e11de');\n",
              "          const dataTable =\n",
              "            await google.colab.kernel.invokeFunction('convertToInteractive',\n",
              "                                                     [key], {});\n",
              "          if (!dataTable) return;\n",
              "\n",
              "          const docLinkHtml = 'Like what you see? Visit the ' +\n",
              "            '<a target=\"_blank\" href=https://colab.research.google.com/notebooks/data_table.ipynb>data table notebook</a>'\n",
              "            + ' to learn more about interactive tables.';\n",
              "          element.innerHTML = '';\n",
              "          dataTable['output_type'] = 'display_data';\n",
              "          await google.colab.output.renderOutput(dataTable, element);\n",
              "          const docLink = document.createElement('div');\n",
              "          docLink.innerHTML = docLinkHtml;\n",
              "          element.appendChild(docLink);\n",
              "        }\n",
              "      </script>\n",
              "    </div>\n",
              "  </div>\n",
              "  "
            ]
          },
          "metadata": {}
        }
      ]
    },
    {
      "cell_type": "code",
      "source": [
        "#me certificando que todas as ~variables~ seguem o padrao de 10 dígitos\n",
        "assert max(df_merged['variable'].str.len()) == 10\n",
        "assert min(df_merged['variable'].str.len()) == 10"
      ],
      "metadata": {
        "id": "kY3gJ6XV9tjw"
      },
      "execution_count": null,
      "outputs": []
    },
    {
      "cell_type": "code",
      "source": [
        "display(df_metadata['variable'].head())"
      ],
      "metadata": {
        "id": "fAyWZJ7-_KY5",
        "colab": {
          "base_uri": "https://localhost:8080/",
          "height": 121
        },
        "outputId": "fced949d-6111-45ac-d968-b45b9fe3dd52"
      },
      "execution_count": null,
      "outputs": [
        {
          "output_type": "display_data",
          "data": {
            "text/plain": [
              "0    accmhni992\n",
              "1    accmhni999\n",
              "2    accmhoi992\n",
              "3    accmhoi999\n",
              "4    accshni992\n",
              "Name: variable, dtype: object"
            ]
          },
          "metadata": {}
        }
      ]
    },
    {
      "cell_type": "code",
      "source": [
        "# as variáveis se repetem entre os países. Para usar o merge (one to many) preciso retirar as duplicatas \n",
        "variables = df_metadata[['variable', 'shortname']].drop_duplicates()\n",
        "variables.head()"
      ],
      "metadata": {
        "id": "aaZgLjtn40pW",
        "colab": {
          "base_uri": "https://localhost:8080/",
          "height": 206
        },
        "outputId": "bc82246b-7fd2-41f6-d479-bc801b5aff9f"
      },
      "execution_count": null,
      "outputs": [
        {
          "output_type": "execute_result",
          "data": {
            "text/plain": [
              "     variable                                          shortname\n",
              "0  accmhni992  Consumption of fixed capital attributable to m...\n",
              "1  accmhni999  Consumption of fixed capital attributable to m...\n",
              "2  accmhoi992  Consumption of fixed capital attributable to m...\n",
              "3  accmhoi999  Consumption of fixed capital attributable to m...\n",
              "4  accshni992  Consumption of fixed capital attributable to o..."
            ],
            "text/html": [
              "\n",
              "  <div id=\"df-081819eb-bb9d-4d14-b4bf-c862ca944701\">\n",
              "    <div class=\"colab-df-container\">\n",
              "      <div>\n",
              "<style scoped>\n",
              "    .dataframe tbody tr th:only-of-type {\n",
              "        vertical-align: middle;\n",
              "    }\n",
              "\n",
              "    .dataframe tbody tr th {\n",
              "        vertical-align: top;\n",
              "    }\n",
              "\n",
              "    .dataframe thead th {\n",
              "        text-align: right;\n",
              "    }\n",
              "</style>\n",
              "<table border=\"1\" class=\"dataframe\">\n",
              "  <thead>\n",
              "    <tr style=\"text-align: right;\">\n",
              "      <th></th>\n",
              "      <th>variable</th>\n",
              "      <th>shortname</th>\n",
              "    </tr>\n",
              "  </thead>\n",
              "  <tbody>\n",
              "    <tr>\n",
              "      <th>0</th>\n",
              "      <td>accmhni992</td>\n",
              "      <td>Consumption of fixed capital attributable to m...</td>\n",
              "    </tr>\n",
              "    <tr>\n",
              "      <th>1</th>\n",
              "      <td>accmhni999</td>\n",
              "      <td>Consumption of fixed capital attributable to m...</td>\n",
              "    </tr>\n",
              "    <tr>\n",
              "      <th>2</th>\n",
              "      <td>accmhoi992</td>\n",
              "      <td>Consumption of fixed capital attributable to m...</td>\n",
              "    </tr>\n",
              "    <tr>\n",
              "      <th>3</th>\n",
              "      <td>accmhoi999</td>\n",
              "      <td>Consumption of fixed capital attributable to m...</td>\n",
              "    </tr>\n",
              "    <tr>\n",
              "      <th>4</th>\n",
              "      <td>accshni992</td>\n",
              "      <td>Consumption of fixed capital attributable to o...</td>\n",
              "    </tr>\n",
              "  </tbody>\n",
              "</table>\n",
              "</div>\n",
              "      <button class=\"colab-df-convert\" onclick=\"convertToInteractive('df-081819eb-bb9d-4d14-b4bf-c862ca944701')\"\n",
              "              title=\"Convert this dataframe to an interactive table.\"\n",
              "              style=\"display:none;\">\n",
              "        \n",
              "  <svg xmlns=\"http://www.w3.org/2000/svg\" height=\"24px\"viewBox=\"0 0 24 24\"\n",
              "       width=\"24px\">\n",
              "    <path d=\"M0 0h24v24H0V0z\" fill=\"none\"/>\n",
              "    <path d=\"M18.56 5.44l.94 2.06.94-2.06 2.06-.94-2.06-.94-.94-2.06-.94 2.06-2.06.94zm-11 1L8.5 8.5l.94-2.06 2.06-.94-2.06-.94L8.5 2.5l-.94 2.06-2.06.94zm10 10l.94 2.06.94-2.06 2.06-.94-2.06-.94-.94-2.06-.94 2.06-2.06.94z\"/><path d=\"M17.41 7.96l-1.37-1.37c-.4-.4-.92-.59-1.43-.59-.52 0-1.04.2-1.43.59L10.3 9.45l-7.72 7.72c-.78.78-.78 2.05 0 2.83L4 21.41c.39.39.9.59 1.41.59.51 0 1.02-.2 1.41-.59l7.78-7.78 2.81-2.81c.8-.78.8-2.07 0-2.86zM5.41 20L4 18.59l7.72-7.72 1.47 1.35L5.41 20z\"/>\n",
              "  </svg>\n",
              "      </button>\n",
              "      \n",
              "  <style>\n",
              "    .colab-df-container {\n",
              "      display:flex;\n",
              "      flex-wrap:wrap;\n",
              "      gap: 12px;\n",
              "    }\n",
              "\n",
              "    .colab-df-convert {\n",
              "      background-color: #E8F0FE;\n",
              "      border: none;\n",
              "      border-radius: 50%;\n",
              "      cursor: pointer;\n",
              "      display: none;\n",
              "      fill: #1967D2;\n",
              "      height: 32px;\n",
              "      padding: 0 0 0 0;\n",
              "      width: 32px;\n",
              "    }\n",
              "\n",
              "    .colab-df-convert:hover {\n",
              "      background-color: #E2EBFA;\n",
              "      box-shadow: 0px 1px 2px rgba(60, 64, 67, 0.3), 0px 1px 3px 1px rgba(60, 64, 67, 0.15);\n",
              "      fill: #174EA6;\n",
              "    }\n",
              "\n",
              "    [theme=dark] .colab-df-convert {\n",
              "      background-color: #3B4455;\n",
              "      fill: #D2E3FC;\n",
              "    }\n",
              "\n",
              "    [theme=dark] .colab-df-convert:hover {\n",
              "      background-color: #434B5C;\n",
              "      box-shadow: 0px 1px 3px 1px rgba(0, 0, 0, 0.15);\n",
              "      filter: drop-shadow(0px 1px 2px rgba(0, 0, 0, 0.3));\n",
              "      fill: #FFFFFF;\n",
              "    }\n",
              "  </style>\n",
              "\n",
              "      <script>\n",
              "        const buttonEl =\n",
              "          document.querySelector('#df-081819eb-bb9d-4d14-b4bf-c862ca944701 button.colab-df-convert');\n",
              "        buttonEl.style.display =\n",
              "          google.colab.kernel.accessAllowed ? 'block' : 'none';\n",
              "\n",
              "        async function convertToInteractive(key) {\n",
              "          const element = document.querySelector('#df-081819eb-bb9d-4d14-b4bf-c862ca944701');\n",
              "          const dataTable =\n",
              "            await google.colab.kernel.invokeFunction('convertToInteractive',\n",
              "                                                     [key], {});\n",
              "          if (!dataTable) return;\n",
              "\n",
              "          const docLinkHtml = 'Like what you see? Visit the ' +\n",
              "            '<a target=\"_blank\" href=https://colab.research.google.com/notebooks/data_table.ipynb>data table notebook</a>'\n",
              "            + ' to learn more about interactive tables.';\n",
              "          element.innerHTML = '';\n",
              "          dataTable['output_type'] = 'display_data';\n",
              "          await google.colab.output.renderOutput(dataTable, element);\n",
              "          const docLink = document.createElement('div');\n",
              "          docLink.innerHTML = docLinkHtml;\n",
              "          element.appendChild(docLink);\n",
              "        }\n",
              "      </script>\n",
              "    </div>\n",
              "  </div>\n",
              "  "
            ]
          },
          "metadata": {},
          "execution_count": 21
        }
      ]
    },
    {
      "cell_type": "code",
      "source": [
        "# por algum motivo que nao entendo, as variáveis são compostas pela mesmas partes, mas em ordem diferente. para fazer o merge é necessário reordena-las\n",
        "list = []\n",
        "for i, j in variables['variable'].items():\n",
        "  a = '%s%s%s'% (j[0 : 6],j[-3 : ],j[6])\n",
        "  list.append(a)\n",
        "#recortei apenas os 15 primeiros para entrar no pdf\n",
        "list[:15]\n"
      ],
      "metadata": {
        "id": "KDuJfmIMOw0V",
        "colab": {
          "base_uri": "https://localhost:8080/"
        },
        "outputId": "032bc988-7a06-4036-b7da-590999ed2daf"
      },
      "execution_count": null,
      "outputs": [
        {
          "output_type": "execute_result",
          "data": {
            "text/plain": [
              "['accmhn992i',\n",
              " 'accmhn999i',\n",
              " 'accmho992i',\n",
              " 'accmho999i',\n",
              " 'accshn992i',\n",
              " 'accshn999i',\n",
              " 'accsho992i',\n",
              " 'accsho999i',\n",
              " 'acfcco992i',\n",
              " 'acfcco999i',\n",
              " 'acfcfc992i',\n",
              " 'acfcfc999i',\n",
              " 'acfcgo992i',\n",
              " 'acfcgo999i',\n",
              " 'acfchn992i']"
            ]
          },
          "metadata": {},
          "execution_count": 22
        }
      ]
    },
    {
      "cell_type": "code",
      "source": [
        "variables['variable'] = list\n",
        "#recortei apenas os 15 primeiros para entrar no pdf\n",
        "display(variables[:15])"
      ],
      "metadata": {
        "id": "--uVYcxJ-rnx",
        "colab": {
          "base_uri": "https://localhost:8080/",
          "height": 520
        },
        "outputId": "86ffa894-5088-44b1-c48e-131d7d3dd65b"
      },
      "execution_count": null,
      "outputs": [
        {
          "output_type": "display_data",
          "data": {
            "text/plain": [
              "      variable                                          shortname\n",
              "0   accmhn992i  Consumption of fixed capital attributable to m...\n",
              "1   accmhn999i  Consumption of fixed capital attributable to m...\n",
              "2   accmho992i  Consumption of fixed capital attributable to m...\n",
              "3   accmho999i  Consumption of fixed capital attributable to m...\n",
              "4   accshn992i  Consumption of fixed capital attributable to o...\n",
              "5   accshn999i  Consumption of fixed capital attributable to o...\n",
              "6   accsho992i  Consumption of fixed capital attributable to o...\n",
              "7   accsho999i  Consumption of fixed capital attributable to o...\n",
              "8   acfcco992i       Consumption of fixed capital of corporations\n",
              "9   acfcco999i       Consumption of fixed capital of corporations\n",
              "10  acfcfc992i  Consumption of fixed capital of financial copo...\n",
              "11  acfcfc999i  Consumption of fixed capital of financial copo...\n",
              "12  acfcgo992i  Consumption of fixed capital of the general go...\n",
              "13  acfcgo999i  Consumption of fixed capital of the general go...\n",
              "14  acfchn992i  Consumption of fixed capital of households and..."
            ],
            "text/html": [
              "\n",
              "  <div id=\"df-c4e759f0-b287-4f5e-b4d4-12ae506db948\">\n",
              "    <div class=\"colab-df-container\">\n",
              "      <div>\n",
              "<style scoped>\n",
              "    .dataframe tbody tr th:only-of-type {\n",
              "        vertical-align: middle;\n",
              "    }\n",
              "\n",
              "    .dataframe tbody tr th {\n",
              "        vertical-align: top;\n",
              "    }\n",
              "\n",
              "    .dataframe thead th {\n",
              "        text-align: right;\n",
              "    }\n",
              "</style>\n",
              "<table border=\"1\" class=\"dataframe\">\n",
              "  <thead>\n",
              "    <tr style=\"text-align: right;\">\n",
              "      <th></th>\n",
              "      <th>variable</th>\n",
              "      <th>shortname</th>\n",
              "    </tr>\n",
              "  </thead>\n",
              "  <tbody>\n",
              "    <tr>\n",
              "      <th>0</th>\n",
              "      <td>accmhn992i</td>\n",
              "      <td>Consumption of fixed capital attributable to m...</td>\n",
              "    </tr>\n",
              "    <tr>\n",
              "      <th>1</th>\n",
              "      <td>accmhn999i</td>\n",
              "      <td>Consumption of fixed capital attributable to m...</td>\n",
              "    </tr>\n",
              "    <tr>\n",
              "      <th>2</th>\n",
              "      <td>accmho992i</td>\n",
              "      <td>Consumption of fixed capital attributable to m...</td>\n",
              "    </tr>\n",
              "    <tr>\n",
              "      <th>3</th>\n",
              "      <td>accmho999i</td>\n",
              "      <td>Consumption of fixed capital attributable to m...</td>\n",
              "    </tr>\n",
              "    <tr>\n",
              "      <th>4</th>\n",
              "      <td>accshn992i</td>\n",
              "      <td>Consumption of fixed capital attributable to o...</td>\n",
              "    </tr>\n",
              "    <tr>\n",
              "      <th>5</th>\n",
              "      <td>accshn999i</td>\n",
              "      <td>Consumption of fixed capital attributable to o...</td>\n",
              "    </tr>\n",
              "    <tr>\n",
              "      <th>6</th>\n",
              "      <td>accsho992i</td>\n",
              "      <td>Consumption of fixed capital attributable to o...</td>\n",
              "    </tr>\n",
              "    <tr>\n",
              "      <th>7</th>\n",
              "      <td>accsho999i</td>\n",
              "      <td>Consumption of fixed capital attributable to o...</td>\n",
              "    </tr>\n",
              "    <tr>\n",
              "      <th>8</th>\n",
              "      <td>acfcco992i</td>\n",
              "      <td>Consumption of fixed capital of corporations</td>\n",
              "    </tr>\n",
              "    <tr>\n",
              "      <th>9</th>\n",
              "      <td>acfcco999i</td>\n",
              "      <td>Consumption of fixed capital of corporations</td>\n",
              "    </tr>\n",
              "    <tr>\n",
              "      <th>10</th>\n",
              "      <td>acfcfc992i</td>\n",
              "      <td>Consumption of fixed capital of financial copo...</td>\n",
              "    </tr>\n",
              "    <tr>\n",
              "      <th>11</th>\n",
              "      <td>acfcfc999i</td>\n",
              "      <td>Consumption of fixed capital of financial copo...</td>\n",
              "    </tr>\n",
              "    <tr>\n",
              "      <th>12</th>\n",
              "      <td>acfcgo992i</td>\n",
              "      <td>Consumption of fixed capital of the general go...</td>\n",
              "    </tr>\n",
              "    <tr>\n",
              "      <th>13</th>\n",
              "      <td>acfcgo999i</td>\n",
              "      <td>Consumption of fixed capital of the general go...</td>\n",
              "    </tr>\n",
              "    <tr>\n",
              "      <th>14</th>\n",
              "      <td>acfchn992i</td>\n",
              "      <td>Consumption of fixed capital of households and...</td>\n",
              "    </tr>\n",
              "  </tbody>\n",
              "</table>\n",
              "</div>\n",
              "      <button class=\"colab-df-convert\" onclick=\"convertToInteractive('df-c4e759f0-b287-4f5e-b4d4-12ae506db948')\"\n",
              "              title=\"Convert this dataframe to an interactive table.\"\n",
              "              style=\"display:none;\">\n",
              "        \n",
              "  <svg xmlns=\"http://www.w3.org/2000/svg\" height=\"24px\"viewBox=\"0 0 24 24\"\n",
              "       width=\"24px\">\n",
              "    <path d=\"M0 0h24v24H0V0z\" fill=\"none\"/>\n",
              "    <path d=\"M18.56 5.44l.94 2.06.94-2.06 2.06-.94-2.06-.94-.94-2.06-.94 2.06-2.06.94zm-11 1L8.5 8.5l.94-2.06 2.06-.94-2.06-.94L8.5 2.5l-.94 2.06-2.06.94zm10 10l.94 2.06.94-2.06 2.06-.94-2.06-.94-.94-2.06-.94 2.06-2.06.94z\"/><path d=\"M17.41 7.96l-1.37-1.37c-.4-.4-.92-.59-1.43-.59-.52 0-1.04.2-1.43.59L10.3 9.45l-7.72 7.72c-.78.78-.78 2.05 0 2.83L4 21.41c.39.39.9.59 1.41.59.51 0 1.02-.2 1.41-.59l7.78-7.78 2.81-2.81c.8-.78.8-2.07 0-2.86zM5.41 20L4 18.59l7.72-7.72 1.47 1.35L5.41 20z\"/>\n",
              "  </svg>\n",
              "      </button>\n",
              "      \n",
              "  <style>\n",
              "    .colab-df-container {\n",
              "      display:flex;\n",
              "      flex-wrap:wrap;\n",
              "      gap: 12px;\n",
              "    }\n",
              "\n",
              "    .colab-df-convert {\n",
              "      background-color: #E8F0FE;\n",
              "      border: none;\n",
              "      border-radius: 50%;\n",
              "      cursor: pointer;\n",
              "      display: none;\n",
              "      fill: #1967D2;\n",
              "      height: 32px;\n",
              "      padding: 0 0 0 0;\n",
              "      width: 32px;\n",
              "    }\n",
              "\n",
              "    .colab-df-convert:hover {\n",
              "      background-color: #E2EBFA;\n",
              "      box-shadow: 0px 1px 2px rgba(60, 64, 67, 0.3), 0px 1px 3px 1px rgba(60, 64, 67, 0.15);\n",
              "      fill: #174EA6;\n",
              "    }\n",
              "\n",
              "    [theme=dark] .colab-df-convert {\n",
              "      background-color: #3B4455;\n",
              "      fill: #D2E3FC;\n",
              "    }\n",
              "\n",
              "    [theme=dark] .colab-df-convert:hover {\n",
              "      background-color: #434B5C;\n",
              "      box-shadow: 0px 1px 3px 1px rgba(0, 0, 0, 0.15);\n",
              "      filter: drop-shadow(0px 1px 2px rgba(0, 0, 0, 0.3));\n",
              "      fill: #FFFFFF;\n",
              "    }\n",
              "  </style>\n",
              "\n",
              "      <script>\n",
              "        const buttonEl =\n",
              "          document.querySelector('#df-c4e759f0-b287-4f5e-b4d4-12ae506db948 button.colab-df-convert');\n",
              "        buttonEl.style.display =\n",
              "          google.colab.kernel.accessAllowed ? 'block' : 'none';\n",
              "\n",
              "        async function convertToInteractive(key) {\n",
              "          const element = document.querySelector('#df-c4e759f0-b287-4f5e-b4d4-12ae506db948');\n",
              "          const dataTable =\n",
              "            await google.colab.kernel.invokeFunction('convertToInteractive',\n",
              "                                                     [key], {});\n",
              "          if (!dataTable) return;\n",
              "\n",
              "          const docLinkHtml = 'Like what you see? Visit the ' +\n",
              "            '<a target=\"_blank\" href=https://colab.research.google.com/notebooks/data_table.ipynb>data table notebook</a>'\n",
              "            + ' to learn more about interactive tables.';\n",
              "          element.innerHTML = '';\n",
              "          dataTable['output_type'] = 'display_data';\n",
              "          await google.colab.output.renderOutput(dataTable, element);\n",
              "          const docLink = document.createElement('div');\n",
              "          docLink.innerHTML = docLinkHtml;\n",
              "          element.appendChild(docLink);\n",
              "        }\n",
              "      </script>\n",
              "    </div>\n",
              "  </div>\n",
              "  "
            ]
          },
          "metadata": {}
        }
      ]
    },
    {
      "cell_type": "code",
      "source": [
        "# com o resultado acima percebi que muitos valores se repetem no ~shortname~\n",
        "variables = variables.drop_duplicates(subset = ['shortname', 'variable'])"
      ],
      "metadata": {
        "id": "QVLuREKNS80i"
      },
      "execution_count": null,
      "outputs": []
    },
    {
      "cell_type": "code",
      "source": [
        "# o merge nao estava funcionando, ao excluir o problema foi rsolvido.\n",
        "variables['shortname'] = variables['shortname'].str.strip()"
      ],
      "metadata": {
        "id": "FbXfXytrDFsp"
      },
      "execution_count": null,
      "outputs": []
    },
    {
      "cell_type": "code",
      "source": [
        "#recortei apenas os 20 primeiros para entrar no pdf\n",
        "display(variables['shortname'].unique()[:20])"
      ],
      "metadata": {
        "colab": {
          "base_uri": "https://localhost:8080/",
          "height": 312
        },
        "id": "6uFj-ohfANbg",
        "outputId": "0664fb2f-dfd2-4b65-d928-3708f82ce95c"
      },
      "execution_count": null,
      "outputs": [
        {
          "output_type": "display_data",
          "data": {
            "text/plain": [
              "array(['Consumption of fixed capital attributable to mixed income',\n",
              "       'Consumption of fixed capital attributable to operating surplus',\n",
              "       'Consumption of fixed capital of corporations',\n",
              "       'Consumption of fixed capital of financial coporations',\n",
              "       'Consumption of fixed capital of the general goverment',\n",
              "       'Consumption of fixed capital of households and NPISH',\n",
              "       'Consumption of fixed capital of households',\n",
              "       'Consumption of fixed capital of non-financial coporations',\n",
              "       'Consumption of fixed capital of NPISH',\n",
              "       'Collective consumption expenditure', 'Compensation of employees',\n",
              "       'Compensation of employees of households',\n",
              "       'Compensation of employees of NPISH', 'Net foreign labor income',\n",
              "       'Compensation of employees paid from the rest of the world',\n",
              "       'Compensation of employees received from the rest of the world',\n",
              "       'Consumption of fixed capital', 'Final consumption expenditures',\n",
              "       'Private expenditures of households and NPISH',\n",
              "       'Private expenditures of households'], dtype=object)"
            ]
          },
          "metadata": {}
        }
      ]
    },
    {
      "cell_type": "code",
      "source": [
        "# O dataframe com todos as variáveis fica muito grande e enviável de utilizar no colab. \n",
        "# Foram escolhidos assuntos de interesse para analisar\n",
        "interesse = ['Education',\n",
        "             'Health', \n",
        "             'Social protection', \t\n",
        "             'Population', \t\n",
        "             'Defense', \n",
        "             'National CO2 footprint',\n",
        "             'Interest', \n",
        "             'Total tax population', \t\n",
        "             'Personal natural capital',\n",
        "             'National agricultural land',\n",
        "             'National natural capital',\n",
        "             'Government bonds & loans'\n",
        "             ] "
      ],
      "metadata": {
        "id": "ihS6qcvEc_O0"
      },
      "execution_count": null,
      "outputs": []
    },
    {
      "cell_type": "code",
      "source": [
        "#filtrar o data frame variables para ter apenas o de interesse. se não ultrapassa o limita de memoria RAM do colab\n",
        "variables = variables[variables['shortname'].isin(interesse)]"
      ],
      "metadata": {
        "id": "ZImsz3RWdxYZ"
      },
      "execution_count": null,
      "outputs": []
    },
    {
      "cell_type": "code",
      "source": [
        "display(variables[:20])"
      ],
      "metadata": {
        "colab": {
          "base_uri": "https://localhost:8080/",
          "height": 677
        },
        "id": "ukbdYEiWCjwl",
        "outputId": "f79bb897-4b83-41e1-de8f-0b0f914e1b9c"
      },
      "execution_count": null,
      "outputs": [
        {
          "output_type": "display_data",
          "data": {
            "text/plain": [
              "       variable               shortname\n",
              "46   aedugo992i               Education\n",
              "47   aedugo999i               Education\n",
              "100  aheago992i                  Health\n",
              "101  aheago999i                  Health\n",
              "266  asopgo992i       Social protection\n",
              "267  asopgo999i       Social protection\n",
              "341  enfcar999i  National CO2 footprint\n",
              "371  knfcar999i  National CO2 footprint\n",
              "411  medugo999i               Education\n",
              "438  mheago999i                  Health\n",
              "520  msopgo999i       Social protection\n",
              "551  npopul001f              Population\n",
              "552  npopul051f              Population\n",
              "553  npopul101f              Population\n",
              "554  npopul111f              Population\n",
              "555  npopul151f              Population\n",
              "556  npopul201f              Population\n",
              "557  npopul202f              Population\n",
              "558  npopul251f              Population\n",
              "559  npopul301f              Population"
            ],
            "text/html": [
              "\n",
              "  <div id=\"df-e450d594-2593-4d94-bd3f-6e6240510f56\">\n",
              "    <div class=\"colab-df-container\">\n",
              "      <div>\n",
              "<style scoped>\n",
              "    .dataframe tbody tr th:only-of-type {\n",
              "        vertical-align: middle;\n",
              "    }\n",
              "\n",
              "    .dataframe tbody tr th {\n",
              "        vertical-align: top;\n",
              "    }\n",
              "\n",
              "    .dataframe thead th {\n",
              "        text-align: right;\n",
              "    }\n",
              "</style>\n",
              "<table border=\"1\" class=\"dataframe\">\n",
              "  <thead>\n",
              "    <tr style=\"text-align: right;\">\n",
              "      <th></th>\n",
              "      <th>variable</th>\n",
              "      <th>shortname</th>\n",
              "    </tr>\n",
              "  </thead>\n",
              "  <tbody>\n",
              "    <tr>\n",
              "      <th>46</th>\n",
              "      <td>aedugo992i</td>\n",
              "      <td>Education</td>\n",
              "    </tr>\n",
              "    <tr>\n",
              "      <th>47</th>\n",
              "      <td>aedugo999i</td>\n",
              "      <td>Education</td>\n",
              "    </tr>\n",
              "    <tr>\n",
              "      <th>100</th>\n",
              "      <td>aheago992i</td>\n",
              "      <td>Health</td>\n",
              "    </tr>\n",
              "    <tr>\n",
              "      <th>101</th>\n",
              "      <td>aheago999i</td>\n",
              "      <td>Health</td>\n",
              "    </tr>\n",
              "    <tr>\n",
              "      <th>266</th>\n",
              "      <td>asopgo992i</td>\n",
              "      <td>Social protection</td>\n",
              "    </tr>\n",
              "    <tr>\n",
              "      <th>267</th>\n",
              "      <td>asopgo999i</td>\n",
              "      <td>Social protection</td>\n",
              "    </tr>\n",
              "    <tr>\n",
              "      <th>341</th>\n",
              "      <td>enfcar999i</td>\n",
              "      <td>National CO2 footprint</td>\n",
              "    </tr>\n",
              "    <tr>\n",
              "      <th>371</th>\n",
              "      <td>knfcar999i</td>\n",
              "      <td>National CO2 footprint</td>\n",
              "    </tr>\n",
              "    <tr>\n",
              "      <th>411</th>\n",
              "      <td>medugo999i</td>\n",
              "      <td>Education</td>\n",
              "    </tr>\n",
              "    <tr>\n",
              "      <th>438</th>\n",
              "      <td>mheago999i</td>\n",
              "      <td>Health</td>\n",
              "    </tr>\n",
              "    <tr>\n",
              "      <th>520</th>\n",
              "      <td>msopgo999i</td>\n",
              "      <td>Social protection</td>\n",
              "    </tr>\n",
              "    <tr>\n",
              "      <th>551</th>\n",
              "      <td>npopul001f</td>\n",
              "      <td>Population</td>\n",
              "    </tr>\n",
              "    <tr>\n",
              "      <th>552</th>\n",
              "      <td>npopul051f</td>\n",
              "      <td>Population</td>\n",
              "    </tr>\n",
              "    <tr>\n",
              "      <th>553</th>\n",
              "      <td>npopul101f</td>\n",
              "      <td>Population</td>\n",
              "    </tr>\n",
              "    <tr>\n",
              "      <th>554</th>\n",
              "      <td>npopul111f</td>\n",
              "      <td>Population</td>\n",
              "    </tr>\n",
              "    <tr>\n",
              "      <th>555</th>\n",
              "      <td>npopul151f</td>\n",
              "      <td>Population</td>\n",
              "    </tr>\n",
              "    <tr>\n",
              "      <th>556</th>\n",
              "      <td>npopul201f</td>\n",
              "      <td>Population</td>\n",
              "    </tr>\n",
              "    <tr>\n",
              "      <th>557</th>\n",
              "      <td>npopul202f</td>\n",
              "      <td>Population</td>\n",
              "    </tr>\n",
              "    <tr>\n",
              "      <th>558</th>\n",
              "      <td>npopul251f</td>\n",
              "      <td>Population</td>\n",
              "    </tr>\n",
              "    <tr>\n",
              "      <th>559</th>\n",
              "      <td>npopul301f</td>\n",
              "      <td>Population</td>\n",
              "    </tr>\n",
              "  </tbody>\n",
              "</table>\n",
              "</div>\n",
              "      <button class=\"colab-df-convert\" onclick=\"convertToInteractive('df-e450d594-2593-4d94-bd3f-6e6240510f56')\"\n",
              "              title=\"Convert this dataframe to an interactive table.\"\n",
              "              style=\"display:none;\">\n",
              "        \n",
              "  <svg xmlns=\"http://www.w3.org/2000/svg\" height=\"24px\"viewBox=\"0 0 24 24\"\n",
              "       width=\"24px\">\n",
              "    <path d=\"M0 0h24v24H0V0z\" fill=\"none\"/>\n",
              "    <path d=\"M18.56 5.44l.94 2.06.94-2.06 2.06-.94-2.06-.94-.94-2.06-.94 2.06-2.06.94zm-11 1L8.5 8.5l.94-2.06 2.06-.94-2.06-.94L8.5 2.5l-.94 2.06-2.06.94zm10 10l.94 2.06.94-2.06 2.06-.94-2.06-.94-.94-2.06-.94 2.06-2.06.94z\"/><path d=\"M17.41 7.96l-1.37-1.37c-.4-.4-.92-.59-1.43-.59-.52 0-1.04.2-1.43.59L10.3 9.45l-7.72 7.72c-.78.78-.78 2.05 0 2.83L4 21.41c.39.39.9.59 1.41.59.51 0 1.02-.2 1.41-.59l7.78-7.78 2.81-2.81c.8-.78.8-2.07 0-2.86zM5.41 20L4 18.59l7.72-7.72 1.47 1.35L5.41 20z\"/>\n",
              "  </svg>\n",
              "      </button>\n",
              "      \n",
              "  <style>\n",
              "    .colab-df-container {\n",
              "      display:flex;\n",
              "      flex-wrap:wrap;\n",
              "      gap: 12px;\n",
              "    }\n",
              "\n",
              "    .colab-df-convert {\n",
              "      background-color: #E8F0FE;\n",
              "      border: none;\n",
              "      border-radius: 50%;\n",
              "      cursor: pointer;\n",
              "      display: none;\n",
              "      fill: #1967D2;\n",
              "      height: 32px;\n",
              "      padding: 0 0 0 0;\n",
              "      width: 32px;\n",
              "    }\n",
              "\n",
              "    .colab-df-convert:hover {\n",
              "      background-color: #E2EBFA;\n",
              "      box-shadow: 0px 1px 2px rgba(60, 64, 67, 0.3), 0px 1px 3px 1px rgba(60, 64, 67, 0.15);\n",
              "      fill: #174EA6;\n",
              "    }\n",
              "\n",
              "    [theme=dark] .colab-df-convert {\n",
              "      background-color: #3B4455;\n",
              "      fill: #D2E3FC;\n",
              "    }\n",
              "\n",
              "    [theme=dark] .colab-df-convert:hover {\n",
              "      background-color: #434B5C;\n",
              "      box-shadow: 0px 1px 3px 1px rgba(0, 0, 0, 0.15);\n",
              "      filter: drop-shadow(0px 1px 2px rgba(0, 0, 0, 0.3));\n",
              "      fill: #FFFFFF;\n",
              "    }\n",
              "  </style>\n",
              "\n",
              "      <script>\n",
              "        const buttonEl =\n",
              "          document.querySelector('#df-e450d594-2593-4d94-bd3f-6e6240510f56 button.colab-df-convert');\n",
              "        buttonEl.style.display =\n",
              "          google.colab.kernel.accessAllowed ? 'block' : 'none';\n",
              "\n",
              "        async function convertToInteractive(key) {\n",
              "          const element = document.querySelector('#df-e450d594-2593-4d94-bd3f-6e6240510f56');\n",
              "          const dataTable =\n",
              "            await google.colab.kernel.invokeFunction('convertToInteractive',\n",
              "                                                     [key], {});\n",
              "          if (!dataTable) return;\n",
              "\n",
              "          const docLinkHtml = 'Like what you see? Visit the ' +\n",
              "            '<a target=\"_blank\" href=https://colab.research.google.com/notebooks/data_table.ipynb>data table notebook</a>'\n",
              "            + ' to learn more about interactive tables.';\n",
              "          element.innerHTML = '';\n",
              "          dataTable['output_type'] = 'display_data';\n",
              "          await google.colab.output.renderOutput(dataTable, element);\n",
              "          const docLink = document.createElement('div');\n",
              "          docLink.innerHTML = docLinkHtml;\n",
              "          element.appendChild(docLink);\n",
              "        }\n",
              "      </script>\n",
              "    </div>\n",
              "  </div>\n",
              "  "
            ]
          },
          "metadata": {}
        }
      ]
    },
    {
      "cell_type": "code",
      "source": [
        "# merge dos data frames df_merged e variables utilizando o variable como key\n",
        "df_total = df_merged.merge(variables, on = 'variable')"
      ],
      "metadata": {
        "id": "iiurUM7q502J"
      },
      "execution_count": null,
      "outputs": []
    },
    {
      "cell_type": "code",
      "source": [
        "#analise exploratória dos dados\n",
        "display(df_total.shape)\n",
        "display(df_total.head())\n",
        "display(df_total.dtypes)\n",
        "display(df_total.isna().sum())\n",
        "display(df_total['shortname_y'].unique())"
      ],
      "metadata": {
        "colab": {
          "base_uri": "https://localhost:8080/",
          "height": 796
        },
        "id": "yKf6R8AocVPF",
        "outputId": "b6fc24dd-819c-4eff-bfd4-0343c793a02b"
      },
      "execution_count": null,
      "outputs": [
        {
          "output_type": "display_data",
          "data": {
            "text/plain": [
              "(2350542, 13)"
            ]
          },
          "metadata": {}
        },
        {
          "output_type": "display_data",
          "data": {
            "text/plain": [
              "  country    variable percentile  year     value  age pop alpha2  \\\n",
              "0      PH  npopul651m     p0p100  1950  107417.0  651   m     PH   \n",
              "1      PH  npopul651m     p0p100  1951  108695.0  651   m     PH   \n",
              "2      PH  npopul651m     p0p100  1952  110059.0  651   m     PH   \n",
              "3      PH  npopul651m     p0p100  1953  111997.0  651   m     PH   \n",
              "4      PH  npopul651m     p0p100  1954  114595.0  651   m     PH   \n",
              "\n",
              "         titlename  shortname_x region          region2 shortname_y  \n",
              "0  the Philippines  Philippines   Asia  South-East Asia  Population  \n",
              "1  the Philippines  Philippines   Asia  South-East Asia  Population  \n",
              "2  the Philippines  Philippines   Asia  South-East Asia  Population  \n",
              "3  the Philippines  Philippines   Asia  South-East Asia  Population  \n",
              "4  the Philippines  Philippines   Asia  South-East Asia  Population  "
            ],
            "text/html": [
              "\n",
              "  <div id=\"df-282fa4fa-825e-457b-9a56-cd8688c58508\">\n",
              "    <div class=\"colab-df-container\">\n",
              "      <div>\n",
              "<style scoped>\n",
              "    .dataframe tbody tr th:only-of-type {\n",
              "        vertical-align: middle;\n",
              "    }\n",
              "\n",
              "    .dataframe tbody tr th {\n",
              "        vertical-align: top;\n",
              "    }\n",
              "\n",
              "    .dataframe thead th {\n",
              "        text-align: right;\n",
              "    }\n",
              "</style>\n",
              "<table border=\"1\" class=\"dataframe\">\n",
              "  <thead>\n",
              "    <tr style=\"text-align: right;\">\n",
              "      <th></th>\n",
              "      <th>country</th>\n",
              "      <th>variable</th>\n",
              "      <th>percentile</th>\n",
              "      <th>year</th>\n",
              "      <th>value</th>\n",
              "      <th>age</th>\n",
              "      <th>pop</th>\n",
              "      <th>alpha2</th>\n",
              "      <th>titlename</th>\n",
              "      <th>shortname_x</th>\n",
              "      <th>region</th>\n",
              "      <th>region2</th>\n",
              "      <th>shortname_y</th>\n",
              "    </tr>\n",
              "  </thead>\n",
              "  <tbody>\n",
              "    <tr>\n",
              "      <th>0</th>\n",
              "      <td>PH</td>\n",
              "      <td>npopul651m</td>\n",
              "      <td>p0p100</td>\n",
              "      <td>1950</td>\n",
              "      <td>107417.0</td>\n",
              "      <td>651</td>\n",
              "      <td>m</td>\n",
              "      <td>PH</td>\n",
              "      <td>the Philippines</td>\n",
              "      <td>Philippines</td>\n",
              "      <td>Asia</td>\n",
              "      <td>South-East Asia</td>\n",
              "      <td>Population</td>\n",
              "    </tr>\n",
              "    <tr>\n",
              "      <th>1</th>\n",
              "      <td>PH</td>\n",
              "      <td>npopul651m</td>\n",
              "      <td>p0p100</td>\n",
              "      <td>1951</td>\n",
              "      <td>108695.0</td>\n",
              "      <td>651</td>\n",
              "      <td>m</td>\n",
              "      <td>PH</td>\n",
              "      <td>the Philippines</td>\n",
              "      <td>Philippines</td>\n",
              "      <td>Asia</td>\n",
              "      <td>South-East Asia</td>\n",
              "      <td>Population</td>\n",
              "    </tr>\n",
              "    <tr>\n",
              "      <th>2</th>\n",
              "      <td>PH</td>\n",
              "      <td>npopul651m</td>\n",
              "      <td>p0p100</td>\n",
              "      <td>1952</td>\n",
              "      <td>110059.0</td>\n",
              "      <td>651</td>\n",
              "      <td>m</td>\n",
              "      <td>PH</td>\n",
              "      <td>the Philippines</td>\n",
              "      <td>Philippines</td>\n",
              "      <td>Asia</td>\n",
              "      <td>South-East Asia</td>\n",
              "      <td>Population</td>\n",
              "    </tr>\n",
              "    <tr>\n",
              "      <th>3</th>\n",
              "      <td>PH</td>\n",
              "      <td>npopul651m</td>\n",
              "      <td>p0p100</td>\n",
              "      <td>1953</td>\n",
              "      <td>111997.0</td>\n",
              "      <td>651</td>\n",
              "      <td>m</td>\n",
              "      <td>PH</td>\n",
              "      <td>the Philippines</td>\n",
              "      <td>Philippines</td>\n",
              "      <td>Asia</td>\n",
              "      <td>South-East Asia</td>\n",
              "      <td>Population</td>\n",
              "    </tr>\n",
              "    <tr>\n",
              "      <th>4</th>\n",
              "      <td>PH</td>\n",
              "      <td>npopul651m</td>\n",
              "      <td>p0p100</td>\n",
              "      <td>1954</td>\n",
              "      <td>114595.0</td>\n",
              "      <td>651</td>\n",
              "      <td>m</td>\n",
              "      <td>PH</td>\n",
              "      <td>the Philippines</td>\n",
              "      <td>Philippines</td>\n",
              "      <td>Asia</td>\n",
              "      <td>South-East Asia</td>\n",
              "      <td>Population</td>\n",
              "    </tr>\n",
              "  </tbody>\n",
              "</table>\n",
              "</div>\n",
              "      <button class=\"colab-df-convert\" onclick=\"convertToInteractive('df-282fa4fa-825e-457b-9a56-cd8688c58508')\"\n",
              "              title=\"Convert this dataframe to an interactive table.\"\n",
              "              style=\"display:none;\">\n",
              "        \n",
              "  <svg xmlns=\"http://www.w3.org/2000/svg\" height=\"24px\"viewBox=\"0 0 24 24\"\n",
              "       width=\"24px\">\n",
              "    <path d=\"M0 0h24v24H0V0z\" fill=\"none\"/>\n",
              "    <path d=\"M18.56 5.44l.94 2.06.94-2.06 2.06-.94-2.06-.94-.94-2.06-.94 2.06-2.06.94zm-11 1L8.5 8.5l.94-2.06 2.06-.94-2.06-.94L8.5 2.5l-.94 2.06-2.06.94zm10 10l.94 2.06.94-2.06 2.06-.94-2.06-.94-.94-2.06-.94 2.06-2.06.94z\"/><path d=\"M17.41 7.96l-1.37-1.37c-.4-.4-.92-.59-1.43-.59-.52 0-1.04.2-1.43.59L10.3 9.45l-7.72 7.72c-.78.78-.78 2.05 0 2.83L4 21.41c.39.39.9.59 1.41.59.51 0 1.02-.2 1.41-.59l7.78-7.78 2.81-2.81c.8-.78.8-2.07 0-2.86zM5.41 20L4 18.59l7.72-7.72 1.47 1.35L5.41 20z\"/>\n",
              "  </svg>\n",
              "      </button>\n",
              "      \n",
              "  <style>\n",
              "    .colab-df-container {\n",
              "      display:flex;\n",
              "      flex-wrap:wrap;\n",
              "      gap: 12px;\n",
              "    }\n",
              "\n",
              "    .colab-df-convert {\n",
              "      background-color: #E8F0FE;\n",
              "      border: none;\n",
              "      border-radius: 50%;\n",
              "      cursor: pointer;\n",
              "      display: none;\n",
              "      fill: #1967D2;\n",
              "      height: 32px;\n",
              "      padding: 0 0 0 0;\n",
              "      width: 32px;\n",
              "    }\n",
              "\n",
              "    .colab-df-convert:hover {\n",
              "      background-color: #E2EBFA;\n",
              "      box-shadow: 0px 1px 2px rgba(60, 64, 67, 0.3), 0px 1px 3px 1px rgba(60, 64, 67, 0.15);\n",
              "      fill: #174EA6;\n",
              "    }\n",
              "\n",
              "    [theme=dark] .colab-df-convert {\n",
              "      background-color: #3B4455;\n",
              "      fill: #D2E3FC;\n",
              "    }\n",
              "\n",
              "    [theme=dark] .colab-df-convert:hover {\n",
              "      background-color: #434B5C;\n",
              "      box-shadow: 0px 1px 3px 1px rgba(0, 0, 0, 0.15);\n",
              "      filter: drop-shadow(0px 1px 2px rgba(0, 0, 0, 0.3));\n",
              "      fill: #FFFFFF;\n",
              "    }\n",
              "  </style>\n",
              "\n",
              "      <script>\n",
              "        const buttonEl =\n",
              "          document.querySelector('#df-282fa4fa-825e-457b-9a56-cd8688c58508 button.colab-df-convert');\n",
              "        buttonEl.style.display =\n",
              "          google.colab.kernel.accessAllowed ? 'block' : 'none';\n",
              "\n",
              "        async function convertToInteractive(key) {\n",
              "          const element = document.querySelector('#df-282fa4fa-825e-457b-9a56-cd8688c58508');\n",
              "          const dataTable =\n",
              "            await google.colab.kernel.invokeFunction('convertToInteractive',\n",
              "                                                     [key], {});\n",
              "          if (!dataTable) return;\n",
              "\n",
              "          const docLinkHtml = 'Like what you see? Visit the ' +\n",
              "            '<a target=\"_blank\" href=https://colab.research.google.com/notebooks/data_table.ipynb>data table notebook</a>'\n",
              "            + ' to learn more about interactive tables.';\n",
              "          element.innerHTML = '';\n",
              "          dataTable['output_type'] = 'display_data';\n",
              "          await google.colab.output.renderOutput(dataTable, element);\n",
              "          const docLink = document.createElement('div');\n",
              "          docLink.innerHTML = docLinkHtml;\n",
              "          element.appendChild(docLink);\n",
              "        }\n",
              "      </script>\n",
              "    </div>\n",
              "  </div>\n",
              "  "
            ]
          },
          "metadata": {}
        },
        {
          "output_type": "display_data",
          "data": {
            "text/plain": [
              "country         object\n",
              "variable        object\n",
              "percentile      object\n",
              "year             int64\n",
              "value          float64\n",
              "age              int64\n",
              "pop             object\n",
              "alpha2          object\n",
              "titlename       object\n",
              "shortname_x     object\n",
              "region          object\n",
              "region2         object\n",
              "shortname_y     object\n",
              "dtype: object"
            ]
          },
          "metadata": {}
        },
        {
          "output_type": "display_data",
          "data": {
            "text/plain": [
              "country          8198\n",
              "variable            0\n",
              "percentile          0\n",
              "year                0\n",
              "value               0\n",
              "age                 0\n",
              "pop                 0\n",
              "alpha2           8198\n",
              "titlename           0\n",
              "shortname_x         0\n",
              "region         660938\n",
              "region2        660938\n",
              "shortname_y         0\n",
              "dtype: int64"
            ]
          },
          "metadata": {}
        },
        {
          "output_type": "display_data",
          "data": {
            "text/plain": [
              "array(['Population', 'National CO2 footprint', 'Total tax population',\n",
              "       'Health', 'Social protection', 'Defense', 'Education',\n",
              "       'National agricultural land', 'Interest',\n",
              "       'Government bonds & loans', 'Personal natural capital',\n",
              "       'National natural capital'], dtype=object)"
            ]
          },
          "metadata": {}
        }
      ]
    },
    {
      "cell_type": "code",
      "source": [
        "df_total[df_total['country'].isna()].head()\n",
        "df_total[df_total['country'].isna()]['titlename'].value_counts() "
      ],
      "metadata": {
        "colab": {
          "base_uri": "https://localhost:8080/"
        },
        "id": "so9uvBsSue9T",
        "outputId": "a23b373c-97de-4526-d448-92e3630534ba"
      },
      "execution_count": null,
      "outputs": [
        {
          "output_type": "execute_result",
          "data": {
            "text/plain": [
              "Namibia    8198\n",
              "Name: titlename, dtype: int64"
            ]
          },
          "metadata": {},
          "execution_count": 32
        }
      ]
    },
    {
      "cell_type": "code",
      "source": [
        "#como podemos ver, todos os valores sao referentes a namibia, provavelmente por causa da semenlanca entre NA e NaN\n",
        "df_total.loc[df_total['country'].isna(), 'country'] = 'NA'"
      ],
      "metadata": {
        "id": "_CARf4wu1RUh"
      },
      "execution_count": null,
      "outputs": []
    },
    {
      "cell_type": "code",
      "source": [
        "df_total[df_total['alpha2'].isna()].head()\n",
        "df_total[df_total['alpha2'].isna()].value_counts('titlename')"
      ],
      "metadata": {
        "colab": {
          "base_uri": "https://localhost:8080/"
        },
        "id": "3EopqlXVx8qv",
        "outputId": "2802b184-9029-441e-d4cb-7cd510bd53a1"
      },
      "execution_count": null,
      "outputs": [
        {
          "output_type": "execute_result",
          "data": {
            "text/plain": [
              "titlename\n",
              "Namibia    8198\n",
              "dtype: int64"
            ]
          },
          "metadata": {},
          "execution_count": 34
        }
      ]
    },
    {
      "cell_type": "code",
      "source": [
        "#como pude ver, todos os valores sao referentes a namibia, provavelmente por causa da semenlanca entre NA e NaN( agora para a variavel 'alpha2')\n",
        "df_total.loc[df_total['alpha2'].isna(), 'alpha2'] = 'NA'"
      ],
      "metadata": {
        "id": "3RMe9Ubf2ELu"
      },
      "execution_count": null,
      "outputs": []
    },
    {
      "cell_type": "code",
      "source": [
        "#visando entender o resto dos NaN\n",
        "display(df_total[df_total['region'].isna()].head())\n",
        "df_total[df_total['region'].isna()]['country'].value_counts()"
      ],
      "metadata": {
        "colab": {
          "base_uri": "https://localhost:8080/",
          "height": 414
        },
        "id": "fdF9UYSBvvNp",
        "outputId": "0b7f02c8-a524-4b7c-a2a7-59441ac07c75"
      },
      "execution_count": null,
      "outputs": [
        {
          "output_type": "display_data",
          "data": {
            "text/plain": [
              "    country    variable percentile  year     value  age pop  alpha2  \\\n",
              "504  QN-MER  npopul651m     p0p100  1950  177782.0  651   m  QN-MER   \n",
              "505  QN-MER  npopul651m     p0p100  1951  178158.0  651   m  QN-MER   \n",
              "506  QN-MER  npopul651m     p0p100  1952  179057.0  651   m  QN-MER   \n",
              "507  QN-MER  npopul651m     p0p100  1953  180811.0  651   m  QN-MER   \n",
              "508  QN-MER  npopul651m     p0p100  1954  183829.0  651   m  QN-MER   \n",
              "\n",
              "                                   titlename  \\\n",
              "504  Middle Africa (at market exchange rate)   \n",
              "505  Middle Africa (at market exchange rate)   \n",
              "506  Middle Africa (at market exchange rate)   \n",
              "507  Middle Africa (at market exchange rate)   \n",
              "508  Middle Africa (at market exchange rate)   \n",
              "\n",
              "                                 shortname_x region region2 shortname_y  \n",
              "504  Middle Africa (at market exchange rate)    NaN     NaN  Population  \n",
              "505  Middle Africa (at market exchange rate)    NaN     NaN  Population  \n",
              "506  Middle Africa (at market exchange rate)    NaN     NaN  Population  \n",
              "507  Middle Africa (at market exchange rate)    NaN     NaN  Population  \n",
              "508  Middle Africa (at market exchange rate)    NaN     NaN  Population  "
            ],
            "text/html": [
              "\n",
              "  <div id=\"df-74daee17-429b-46e4-bfe0-d1fd2bee35b8\">\n",
              "    <div class=\"colab-df-container\">\n",
              "      <div>\n",
              "<style scoped>\n",
              "    .dataframe tbody tr th:only-of-type {\n",
              "        vertical-align: middle;\n",
              "    }\n",
              "\n",
              "    .dataframe tbody tr th {\n",
              "        vertical-align: top;\n",
              "    }\n",
              "\n",
              "    .dataframe thead th {\n",
              "        text-align: right;\n",
              "    }\n",
              "</style>\n",
              "<table border=\"1\" class=\"dataframe\">\n",
              "  <thead>\n",
              "    <tr style=\"text-align: right;\">\n",
              "      <th></th>\n",
              "      <th>country</th>\n",
              "      <th>variable</th>\n",
              "      <th>percentile</th>\n",
              "      <th>year</th>\n",
              "      <th>value</th>\n",
              "      <th>age</th>\n",
              "      <th>pop</th>\n",
              "      <th>alpha2</th>\n",
              "      <th>titlename</th>\n",
              "      <th>shortname_x</th>\n",
              "      <th>region</th>\n",
              "      <th>region2</th>\n",
              "      <th>shortname_y</th>\n",
              "    </tr>\n",
              "  </thead>\n",
              "  <tbody>\n",
              "    <tr>\n",
              "      <th>504</th>\n",
              "      <td>QN-MER</td>\n",
              "      <td>npopul651m</td>\n",
              "      <td>p0p100</td>\n",
              "      <td>1950</td>\n",
              "      <td>177782.0</td>\n",
              "      <td>651</td>\n",
              "      <td>m</td>\n",
              "      <td>QN-MER</td>\n",
              "      <td>Middle Africa (at market exchange rate)</td>\n",
              "      <td>Middle Africa (at market exchange rate)</td>\n",
              "      <td>NaN</td>\n",
              "      <td>NaN</td>\n",
              "      <td>Population</td>\n",
              "    </tr>\n",
              "    <tr>\n",
              "      <th>505</th>\n",
              "      <td>QN-MER</td>\n",
              "      <td>npopul651m</td>\n",
              "      <td>p0p100</td>\n",
              "      <td>1951</td>\n",
              "      <td>178158.0</td>\n",
              "      <td>651</td>\n",
              "      <td>m</td>\n",
              "      <td>QN-MER</td>\n",
              "      <td>Middle Africa (at market exchange rate)</td>\n",
              "      <td>Middle Africa (at market exchange rate)</td>\n",
              "      <td>NaN</td>\n",
              "      <td>NaN</td>\n",
              "      <td>Population</td>\n",
              "    </tr>\n",
              "    <tr>\n",
              "      <th>506</th>\n",
              "      <td>QN-MER</td>\n",
              "      <td>npopul651m</td>\n",
              "      <td>p0p100</td>\n",
              "      <td>1952</td>\n",
              "      <td>179057.0</td>\n",
              "      <td>651</td>\n",
              "      <td>m</td>\n",
              "      <td>QN-MER</td>\n",
              "      <td>Middle Africa (at market exchange rate)</td>\n",
              "      <td>Middle Africa (at market exchange rate)</td>\n",
              "      <td>NaN</td>\n",
              "      <td>NaN</td>\n",
              "      <td>Population</td>\n",
              "    </tr>\n",
              "    <tr>\n",
              "      <th>507</th>\n",
              "      <td>QN-MER</td>\n",
              "      <td>npopul651m</td>\n",
              "      <td>p0p100</td>\n",
              "      <td>1953</td>\n",
              "      <td>180811.0</td>\n",
              "      <td>651</td>\n",
              "      <td>m</td>\n",
              "      <td>QN-MER</td>\n",
              "      <td>Middle Africa (at market exchange rate)</td>\n",
              "      <td>Middle Africa (at market exchange rate)</td>\n",
              "      <td>NaN</td>\n",
              "      <td>NaN</td>\n",
              "      <td>Population</td>\n",
              "    </tr>\n",
              "    <tr>\n",
              "      <th>508</th>\n",
              "      <td>QN-MER</td>\n",
              "      <td>npopul651m</td>\n",
              "      <td>p0p100</td>\n",
              "      <td>1954</td>\n",
              "      <td>183829.0</td>\n",
              "      <td>651</td>\n",
              "      <td>m</td>\n",
              "      <td>QN-MER</td>\n",
              "      <td>Middle Africa (at market exchange rate)</td>\n",
              "      <td>Middle Africa (at market exchange rate)</td>\n",
              "      <td>NaN</td>\n",
              "      <td>NaN</td>\n",
              "      <td>Population</td>\n",
              "    </tr>\n",
              "  </tbody>\n",
              "</table>\n",
              "</div>\n",
              "      <button class=\"colab-df-convert\" onclick=\"convertToInteractive('df-74daee17-429b-46e4-bfe0-d1fd2bee35b8')\"\n",
              "              title=\"Convert this dataframe to an interactive table.\"\n",
              "              style=\"display:none;\">\n",
              "        \n",
              "  <svg xmlns=\"http://www.w3.org/2000/svg\" height=\"24px\"viewBox=\"0 0 24 24\"\n",
              "       width=\"24px\">\n",
              "    <path d=\"M0 0h24v24H0V0z\" fill=\"none\"/>\n",
              "    <path d=\"M18.56 5.44l.94 2.06.94-2.06 2.06-.94-2.06-.94-.94-2.06-.94 2.06-2.06.94zm-11 1L8.5 8.5l.94-2.06 2.06-.94-2.06-.94L8.5 2.5l-.94 2.06-2.06.94zm10 10l.94 2.06.94-2.06 2.06-.94-2.06-.94-.94-2.06-.94 2.06-2.06.94z\"/><path d=\"M17.41 7.96l-1.37-1.37c-.4-.4-.92-.59-1.43-.59-.52 0-1.04.2-1.43.59L10.3 9.45l-7.72 7.72c-.78.78-.78 2.05 0 2.83L4 21.41c.39.39.9.59 1.41.59.51 0 1.02-.2 1.41-.59l7.78-7.78 2.81-2.81c.8-.78.8-2.07 0-2.86zM5.41 20L4 18.59l7.72-7.72 1.47 1.35L5.41 20z\"/>\n",
              "  </svg>\n",
              "      </button>\n",
              "      \n",
              "  <style>\n",
              "    .colab-df-container {\n",
              "      display:flex;\n",
              "      flex-wrap:wrap;\n",
              "      gap: 12px;\n",
              "    }\n",
              "\n",
              "    .colab-df-convert {\n",
              "      background-color: #E8F0FE;\n",
              "      border: none;\n",
              "      border-radius: 50%;\n",
              "      cursor: pointer;\n",
              "      display: none;\n",
              "      fill: #1967D2;\n",
              "      height: 32px;\n",
              "      padding: 0 0 0 0;\n",
              "      width: 32px;\n",
              "    }\n",
              "\n",
              "    .colab-df-convert:hover {\n",
              "      background-color: #E2EBFA;\n",
              "      box-shadow: 0px 1px 2px rgba(60, 64, 67, 0.3), 0px 1px 3px 1px rgba(60, 64, 67, 0.15);\n",
              "      fill: #174EA6;\n",
              "    }\n",
              "\n",
              "    [theme=dark] .colab-df-convert {\n",
              "      background-color: #3B4455;\n",
              "      fill: #D2E3FC;\n",
              "    }\n",
              "\n",
              "    [theme=dark] .colab-df-convert:hover {\n",
              "      background-color: #434B5C;\n",
              "      box-shadow: 0px 1px 3px 1px rgba(0, 0, 0, 0.15);\n",
              "      filter: drop-shadow(0px 1px 2px rgba(0, 0, 0, 0.3));\n",
              "      fill: #FFFFFF;\n",
              "    }\n",
              "  </style>\n",
              "\n",
              "      <script>\n",
              "        const buttonEl =\n",
              "          document.querySelector('#df-74daee17-429b-46e4-bfe0-d1fd2bee35b8 button.colab-df-convert');\n",
              "        buttonEl.style.display =\n",
              "          google.colab.kernel.accessAllowed ? 'block' : 'none';\n",
              "\n",
              "        async function convertToInteractive(key) {\n",
              "          const element = document.querySelector('#df-74daee17-429b-46e4-bfe0-d1fd2bee35b8');\n",
              "          const dataTable =\n",
              "            await google.colab.kernel.invokeFunction('convertToInteractive',\n",
              "                                                     [key], {});\n",
              "          if (!dataTable) return;\n",
              "\n",
              "          const docLinkHtml = 'Like what you see? Visit the ' +\n",
              "            '<a target=\"_blank\" href=https://colab.research.google.com/notebooks/data_table.ipynb>data table notebook</a>'\n",
              "            + ' to learn more about interactive tables.';\n",
              "          element.innerHTML = '';\n",
              "          dataTable['output_type'] = 'display_data';\n",
              "          await google.colab.output.renderOutput(dataTable, element);\n",
              "          const docLink = document.createElement('div');\n",
              "          docLink.innerHTML = docLinkHtml;\n",
              "          element.appendChild(docLink);\n",
              "        }\n",
              "      </script>\n",
              "    </div>\n",
              "  </div>\n",
              "  "
            ]
          },
          "metadata": {}
        },
        {
          "output_type": "execute_result",
          "data": {
            "text/plain": [
              "QD       8226\n",
              "WO       8226\n",
              "QL       8226\n",
              "XA       8226\n",
              "QH       8198\n",
              "         ... \n",
              "US-IL     102\n",
              "US-ID     102\n",
              "US-AK      72\n",
              "CN-UR      38\n",
              "CN-RU      38\n",
              "Name: country, Length: 135, dtype: int64"
            ]
          },
          "metadata": {},
          "execution_count": 36
        }
      ]
    },
    {
      "cell_type": "markdown",
      "source": [
        ""
      ],
      "metadata": {
        "id": "-hx7c232Si3c"
      }
    },
    {
      "cell_type": "code",
      "source": [
        "#Percebi que os estados dos EUA estavam separados.\n",
        "df_total[df_total['region2'].isna()]\n",
        "df_total[df_total['region2'].isna() & (df_total['country'].str.contains('US'))]['titlename'].value_counts()"
      ],
      "metadata": {
        "colab": {
          "base_uri": "https://localhost:8080/"
        },
        "id": "FPJZ7ocdv2VK",
        "outputId": "9abd2d41-61fc-4afb-fe12-aa9dbca922f7"
      },
      "execution_count": null,
      "outputs": [
        {
          "output_type": "execute_result",
          "data": {
            "text/plain": [
              "Michigan                102\n",
              "Wisconsin               102\n",
              "Connecticut             102\n",
              "California              102\n",
              "Georgia                 102\n",
              "New Mexico              102\n",
              "Missouri                102\n",
              "Montana                 102\n",
              "Ohio                    102\n",
              "South Carolina          102\n",
              "Tennessee               102\n",
              "Hawaii                  102\n",
              "Delaware                102\n",
              "Kansas                  102\n",
              "New Jersey              102\n",
              "Colorado                102\n",
              "Minnesota               102\n",
              "Louisiana               102\n",
              "Nevada                  102\n",
              "North Carolina          102\n",
              "District of Columbia    102\n",
              "Massachusetts           102\n",
              "Washington              102\n",
              "Maine                   102\n",
              "Oregon                  102\n",
              "Utah                    102\n",
              "Maryland                102\n",
              "Virginia                102\n",
              "North Dakota            102\n",
              "West Virginia           102\n",
              "Arizona                 102\n",
              "New York                102\n",
              "Florida                 102\n",
              "Rhode Island            102\n",
              "New Hampshire           102\n",
              "Oklahoma                102\n",
              "Vermont                 102\n",
              "Indiana                 102\n",
              "Mississippi             102\n",
              "South Dakota            102\n",
              "Texas                   102\n",
              "Wyoming                 102\n",
              "Alabama                 102\n",
              "Arkansas                102\n",
              "Iowa                    102\n",
              "Pennsylvania            102\n",
              "Illinois                102\n",
              "Idaho                   102\n",
              "Kentucky                102\n",
              "Nebraska                102\n",
              "Alaska                   72\n",
              "Name: titlename, dtype: int64"
            ]
          },
          "metadata": {},
          "execution_count": 37
        }
      ]
    },
    {
      "cell_type": "code",
      "source": [
        "#visando juntar todos os estados dos EUA em um unico pais, substitui as variaveis ,country, region, titlename e region2\n",
        "df_total.loc[df_total['region2'].isna() & df_total['country'].str.contains('US'), 'country'] = 'US'"
      ],
      "metadata": {
        "id": "83NsAiJR8n6Z"
      },
      "execution_count": null,
      "outputs": []
    },
    {
      "cell_type": "code",
      "source": [
        "df_total.loc[df_total['region2'].isna() & df_total['country'].str.contains('US'), 'region'] = 'Americas'"
      ],
      "metadata": {
        "id": "7V6UoECp9XRo"
      },
      "execution_count": null,
      "outputs": []
    },
    {
      "cell_type": "code",
      "source": [
        "df_total.loc[df_total['region2'].isna() & df_total['country'].str.contains('US'), 'titlename'] = 'United States'"
      ],
      "metadata": {
        "id": "QYfxUFVFkDZ5"
      },
      "execution_count": null,
      "outputs": []
    },
    {
      "cell_type": "code",
      "source": [
        "df_total.loc[df_total['region2'].isna() & df_total['country'].str.contains('US'), 'region2'] = 'North America'"
      ],
      "metadata": {
        "id": "FZ4gG7H19XED"
      },
      "execution_count": null,
      "outputs": []
    },
    {
      "cell_type": "code",
      "source": [
        "df_total.isna().sum()"
      ],
      "metadata": {
        "colab": {
          "base_uri": "https://localhost:8080/"
        },
        "id": "AFtr_56ATm0Y",
        "outputId": "661c0882-4daf-44d7-9790-bf2ea5807f99"
      },
      "execution_count": null,
      "outputs": [
        {
          "output_type": "execute_result",
          "data": {
            "text/plain": [
              "country             0\n",
              "variable            0\n",
              "percentile          0\n",
              "year                0\n",
              "value               0\n",
              "age                 0\n",
              "pop                 0\n",
              "alpha2              0\n",
              "titlename           0\n",
              "shortname_x         0\n",
              "region         655766\n",
              "region2        655766\n",
              "shortname_y         0\n",
              "dtype: int64"
            ]
          },
          "metadata": {},
          "execution_count": 42
        }
      ]
    },
    {
      "cell_type": "code",
      "source": [
        "#restando apenas siglas para casos específicos. \n",
        "na = df_total[df_total['region'].isna()]\n",
        "na['alpha2'].unique()"
      ],
      "metadata": {
        "colab": {
          "base_uri": "https://localhost:8080/"
        },
        "id": "ueQqmxC_271v",
        "outputId": "bc43992a-af5d-432c-b341-8d4690fba2ec"
      },
      "execution_count": null,
      "outputs": [
        {
          "output_type": "execute_result",
          "data": {
            "text/plain": [
              "array(['QN-MER', 'QI', 'OJ-MER', 'XM-MER', 'QC-MER', 'XM', 'XF-MER', 'QX',\n",
              "       'QL', 'QE-MER', 'QP', 'QS-MER', 'OE', 'OD', 'QY-MER', 'XB-MER',\n",
              "       'QQ-MER', 'QK-MER', 'QB-MER', 'WO', 'QK', 'QM-MER', 'QY', 'XN',\n",
              "       'QJ-MER', 'XA-MER', 'OH-MER', 'OA', 'WO-MER', 'QD-MER', 'QW', 'QV',\n",
              "       'QU-MER', 'QI-MER', 'QL-MER', 'QU', 'OE-MER', 'QG-MER', 'QO-MER',\n",
              "       'QT-MER', 'QP-MER', 'OI-MER', 'QQ', 'QB', 'QX-MER', 'XS-MER', 'OH',\n",
              "       'OI', 'QF-MER', 'QV-MER', 'OJ', 'QR-MER', 'QR', 'XS', 'XL', 'OB',\n",
              "       'QO', 'QN', 'QM', 'QD', 'XF', 'QE', 'XR', 'XN-MER', 'QJ', 'QF',\n",
              "       'OA-MER', 'QH', 'OB-MER', 'OC', 'QC', 'XL-MER', 'QW-MER', 'OC-MER',\n",
              "       'OD-MER', 'XA', 'QS', 'QT', 'XB', 'QG', 'XR-MER', 'QH-MER',\n",
              "       'CN-RU', 'CN-UR'], dtype=object)"
            ]
          },
          "metadata": {},
          "execution_count": 43
        }
      ]
    },
    {
      "cell_type": "code",
      "source": [
        "#como não se encaixam em nenhum país, foram descartadas\n",
        "df_total = df_total.dropna()"
      ],
      "metadata": {
        "id": "w7OHTV8KA_mj"
      },
      "execution_count": null,
      "outputs": []
    },
    {
      "cell_type": "markdown",
      "source": [
        "Nas análises serão considerados apenas os últimos 22 anos de dados."
      ],
      "metadata": {
        "id": "HaPb9w4Y2WTz"
      }
    },
    {
      "cell_type": "code",
      "source": [
        "#Filtando o df_total\n",
        "# manter apenas os ultimos 22 anos\n",
        "df_total_01 = df_total[df_total['year']>=2000]\n",
        "display(df_total_01.head())\n",
        "display(df_total_01.shape)\n",
        "display(df_total_01.isna().sum())"
      ],
      "metadata": {
        "id": "q1C41CIPs9Sa",
        "colab": {
          "base_uri": "https://localhost:8080/",
          "height": 467
        },
        "outputId": "40edd40d-75bd-4cc1-ff3c-849ba89ce0cd"
      },
      "execution_count": null,
      "outputs": [
        {
          "output_type": "display_data",
          "data": {
            "text/plain": [
              "   country    variable percentile  year     value  age pop alpha2  \\\n",
              "50      PH  npopul651m     p0p100  2000  494357.0  651   m     PH   \n",
              "51      PH  npopul651m     p0p100  2001  509334.0  651   m     PH   \n",
              "52      PH  npopul651m     p0p100  2002  520934.0  651   m     PH   \n",
              "53      PH  npopul651m     p0p100  2003  531462.0  651   m     PH   \n",
              "54      PH  npopul651m     p0p100  2004  543992.0  651   m     PH   \n",
              "\n",
              "          titlename  shortname_x region          region2 shortname_y  \n",
              "50  the Philippines  Philippines   Asia  South-East Asia  Population  \n",
              "51  the Philippines  Philippines   Asia  South-East Asia  Population  \n",
              "52  the Philippines  Philippines   Asia  South-East Asia  Population  \n",
              "53  the Philippines  Philippines   Asia  South-East Asia  Population  \n",
              "54  the Philippines  Philippines   Asia  South-East Asia  Population  "
            ],
            "text/html": [
              "\n",
              "  <div id=\"df-18167215-2fb6-4127-b362-6010bbb9d385\">\n",
              "    <div class=\"colab-df-container\">\n",
              "      <div>\n",
              "<style scoped>\n",
              "    .dataframe tbody tr th:only-of-type {\n",
              "        vertical-align: middle;\n",
              "    }\n",
              "\n",
              "    .dataframe tbody tr th {\n",
              "        vertical-align: top;\n",
              "    }\n",
              "\n",
              "    .dataframe thead th {\n",
              "        text-align: right;\n",
              "    }\n",
              "</style>\n",
              "<table border=\"1\" class=\"dataframe\">\n",
              "  <thead>\n",
              "    <tr style=\"text-align: right;\">\n",
              "      <th></th>\n",
              "      <th>country</th>\n",
              "      <th>variable</th>\n",
              "      <th>percentile</th>\n",
              "      <th>year</th>\n",
              "      <th>value</th>\n",
              "      <th>age</th>\n",
              "      <th>pop</th>\n",
              "      <th>alpha2</th>\n",
              "      <th>titlename</th>\n",
              "      <th>shortname_x</th>\n",
              "      <th>region</th>\n",
              "      <th>region2</th>\n",
              "      <th>shortname_y</th>\n",
              "    </tr>\n",
              "  </thead>\n",
              "  <tbody>\n",
              "    <tr>\n",
              "      <th>50</th>\n",
              "      <td>PH</td>\n",
              "      <td>npopul651m</td>\n",
              "      <td>p0p100</td>\n",
              "      <td>2000</td>\n",
              "      <td>494357.0</td>\n",
              "      <td>651</td>\n",
              "      <td>m</td>\n",
              "      <td>PH</td>\n",
              "      <td>the Philippines</td>\n",
              "      <td>Philippines</td>\n",
              "      <td>Asia</td>\n",
              "      <td>South-East Asia</td>\n",
              "      <td>Population</td>\n",
              "    </tr>\n",
              "    <tr>\n",
              "      <th>51</th>\n",
              "      <td>PH</td>\n",
              "      <td>npopul651m</td>\n",
              "      <td>p0p100</td>\n",
              "      <td>2001</td>\n",
              "      <td>509334.0</td>\n",
              "      <td>651</td>\n",
              "      <td>m</td>\n",
              "      <td>PH</td>\n",
              "      <td>the Philippines</td>\n",
              "      <td>Philippines</td>\n",
              "      <td>Asia</td>\n",
              "      <td>South-East Asia</td>\n",
              "      <td>Population</td>\n",
              "    </tr>\n",
              "    <tr>\n",
              "      <th>52</th>\n",
              "      <td>PH</td>\n",
              "      <td>npopul651m</td>\n",
              "      <td>p0p100</td>\n",
              "      <td>2002</td>\n",
              "      <td>520934.0</td>\n",
              "      <td>651</td>\n",
              "      <td>m</td>\n",
              "      <td>PH</td>\n",
              "      <td>the Philippines</td>\n",
              "      <td>Philippines</td>\n",
              "      <td>Asia</td>\n",
              "      <td>South-East Asia</td>\n",
              "      <td>Population</td>\n",
              "    </tr>\n",
              "    <tr>\n",
              "      <th>53</th>\n",
              "      <td>PH</td>\n",
              "      <td>npopul651m</td>\n",
              "      <td>p0p100</td>\n",
              "      <td>2003</td>\n",
              "      <td>531462.0</td>\n",
              "      <td>651</td>\n",
              "      <td>m</td>\n",
              "      <td>PH</td>\n",
              "      <td>the Philippines</td>\n",
              "      <td>Philippines</td>\n",
              "      <td>Asia</td>\n",
              "      <td>South-East Asia</td>\n",
              "      <td>Population</td>\n",
              "    </tr>\n",
              "    <tr>\n",
              "      <th>54</th>\n",
              "      <td>PH</td>\n",
              "      <td>npopul651m</td>\n",
              "      <td>p0p100</td>\n",
              "      <td>2004</td>\n",
              "      <td>543992.0</td>\n",
              "      <td>651</td>\n",
              "      <td>m</td>\n",
              "      <td>PH</td>\n",
              "      <td>the Philippines</td>\n",
              "      <td>Philippines</td>\n",
              "      <td>Asia</td>\n",
              "      <td>South-East Asia</td>\n",
              "      <td>Population</td>\n",
              "    </tr>\n",
              "  </tbody>\n",
              "</table>\n",
              "</div>\n",
              "      <button class=\"colab-df-convert\" onclick=\"convertToInteractive('df-18167215-2fb6-4127-b362-6010bbb9d385')\"\n",
              "              title=\"Convert this dataframe to an interactive table.\"\n",
              "              style=\"display:none;\">\n",
              "        \n",
              "  <svg xmlns=\"http://www.w3.org/2000/svg\" height=\"24px\"viewBox=\"0 0 24 24\"\n",
              "       width=\"24px\">\n",
              "    <path d=\"M0 0h24v24H0V0z\" fill=\"none\"/>\n",
              "    <path d=\"M18.56 5.44l.94 2.06.94-2.06 2.06-.94-2.06-.94-.94-2.06-.94 2.06-2.06.94zm-11 1L8.5 8.5l.94-2.06 2.06-.94-2.06-.94L8.5 2.5l-.94 2.06-2.06.94zm10 10l.94 2.06.94-2.06 2.06-.94-2.06-.94-.94-2.06-.94 2.06-2.06.94z\"/><path d=\"M17.41 7.96l-1.37-1.37c-.4-.4-.92-.59-1.43-.59-.52 0-1.04.2-1.43.59L10.3 9.45l-7.72 7.72c-.78.78-.78 2.05 0 2.83L4 21.41c.39.39.9.59 1.41.59.51 0 1.02-.2 1.41-.59l7.78-7.78 2.81-2.81c.8-.78.8-2.07 0-2.86zM5.41 20L4 18.59l7.72-7.72 1.47 1.35L5.41 20z\"/>\n",
              "  </svg>\n",
              "      </button>\n",
              "      \n",
              "  <style>\n",
              "    .colab-df-container {\n",
              "      display:flex;\n",
              "      flex-wrap:wrap;\n",
              "      gap: 12px;\n",
              "    }\n",
              "\n",
              "    .colab-df-convert {\n",
              "      background-color: #E8F0FE;\n",
              "      border: none;\n",
              "      border-radius: 50%;\n",
              "      cursor: pointer;\n",
              "      display: none;\n",
              "      fill: #1967D2;\n",
              "      height: 32px;\n",
              "      padding: 0 0 0 0;\n",
              "      width: 32px;\n",
              "    }\n",
              "\n",
              "    .colab-df-convert:hover {\n",
              "      background-color: #E2EBFA;\n",
              "      box-shadow: 0px 1px 2px rgba(60, 64, 67, 0.3), 0px 1px 3px 1px rgba(60, 64, 67, 0.15);\n",
              "      fill: #174EA6;\n",
              "    }\n",
              "\n",
              "    [theme=dark] .colab-df-convert {\n",
              "      background-color: #3B4455;\n",
              "      fill: #D2E3FC;\n",
              "    }\n",
              "\n",
              "    [theme=dark] .colab-df-convert:hover {\n",
              "      background-color: #434B5C;\n",
              "      box-shadow: 0px 1px 3px 1px rgba(0, 0, 0, 0.15);\n",
              "      filter: drop-shadow(0px 1px 2px rgba(0, 0, 0, 0.3));\n",
              "      fill: #FFFFFF;\n",
              "    }\n",
              "  </style>\n",
              "\n",
              "      <script>\n",
              "        const buttonEl =\n",
              "          document.querySelector('#df-18167215-2fb6-4127-b362-6010bbb9d385 button.colab-df-convert');\n",
              "        buttonEl.style.display =\n",
              "          google.colab.kernel.accessAllowed ? 'block' : 'none';\n",
              "\n",
              "        async function convertToInteractive(key) {\n",
              "          const element = document.querySelector('#df-18167215-2fb6-4127-b362-6010bbb9d385');\n",
              "          const dataTable =\n",
              "            await google.colab.kernel.invokeFunction('convertToInteractive',\n",
              "                                                     [key], {});\n",
              "          if (!dataTable) return;\n",
              "\n",
              "          const docLinkHtml = 'Like what you see? Visit the ' +\n",
              "            '<a target=\"_blank\" href=https://colab.research.google.com/notebooks/data_table.ipynb>data table notebook</a>'\n",
              "            + ' to learn more about interactive tables.';\n",
              "          element.innerHTML = '';\n",
              "          dataTable['output_type'] = 'display_data';\n",
              "          await google.colab.output.renderOutput(dataTable, element);\n",
              "          const docLink = document.createElement('div');\n",
              "          docLink.innerHTML = docLinkHtml;\n",
              "          element.appendChild(docLink);\n",
              "        }\n",
              "      </script>\n",
              "    </div>\n",
              "  </div>\n",
              "  "
            ]
          },
          "metadata": {}
        },
        {
          "output_type": "display_data",
          "data": {
            "text/plain": [
              "(528794, 13)"
            ]
          },
          "metadata": {}
        },
        {
          "output_type": "display_data",
          "data": {
            "text/plain": [
              "country        0\n",
              "variable       0\n",
              "percentile     0\n",
              "year           0\n",
              "value          0\n",
              "age            0\n",
              "pop            0\n",
              "alpha2         0\n",
              "titlename      0\n",
              "shortname_x    0\n",
              "region         0\n",
              "region2        0\n",
              "shortname_y    0\n",
              "dtype: int64"
            ]
          },
          "metadata": {}
        }
      ]
    },
    {
      "cell_type": "markdown",
      "source": [
        "#### 1° Pergunta\n",
        "Quais são os 10 paises mais populosos do mundo?"
      ],
      "metadata": {
        "id": "VAESZ-1mE28g"
      }
    },
    {
      "cell_type": "code",
      "source": [
        "pop = df_total_01[df_total_01['shortname_y'] == 'Population'].groupby('titlename', as_index = False)['value'].sum()\n",
        "pop_country = pop.nlargest(10, 'value')\n",
        "pop_year = df_total_01[df_total_01['shortname_y'] == 'Population'].groupby(['titlename', 'year'], as_index = False)['value'].sum()\n",
        "pop_sns = pop_year[pop_year['titlename'].isin(pop_country['titlename'])]\n",
        "sns.relplot(data = pop_sns,\n",
        "            x = 'year',\n",
        "            y = 'value',\n",
        "            kind = 'line',\n",
        "            hue = 'titlename')"
      ],
      "metadata": {
        "colab": {
          "base_uri": "https://localhost:8080/",
          "height": 386
        },
        "id": "RA_sOsbAU3aK",
        "outputId": "391724f7-af0c-4b47-b22b-c2d47e38d619"
      },
      "execution_count": null,
      "outputs": [
        {
          "output_type": "execute_result",
          "data": {
            "text/plain": [
              "<seaborn.axisgrid.FacetGrid at 0x7f5699d1ed50>"
            ]
          },
          "metadata": {},
          "execution_count": 46
        },
        {
          "output_type": "display_data",
          "data": {
            "text/plain": [
              "<Figure size 510.5x360 with 1 Axes>"
            ],
            "image/png": "[encoded data removed]"
          },
          "metadata": {
            "needs_background": "light"
          }
        }
      ]
    },
    {
      "cell_type": "markdown",
      "source": [
        "Os dados mostram que os 10 paises mais populosos são: China, India, the USA, the USSR, Indonesia, Brazil, Pakistan, the Russian Federation, Nigeria, Bangladesh. \n",
        "No entato, em 1991 houve a dissolu;'ao da Uniao Sovietica (URSS). Não era nem para estar presente nos dados porque filtrei apenas os dados a partir de 2000."
      ],
      "metadata": {
        "id": "2UTvd0HBFcEQ"
      }
    },
    {
      "cell_type": "markdown",
      "source": [
        "#### 2° Pergunta\n",
        "Quais paises, dentre os 10 mais populosos, tiveram a maior variação populacional?"
      ],
      "metadata": {
        "id": "mCNoavCAJJYu"
      }
    },
    {
      "cell_type": "code",
      "source": [
        "sns.catplot(data = pop_year[pop_year['titlename'].isin(pop_country['titlename'])],\n",
        "            x = 'titlename',\n",
        "            y = 'value',\n",
        "            kind = 'box')\n",
        "plt.xticks(rotation = 90)"
      ],
      "metadata": {
        "colab": {
          "base_uri": "https://localhost:8080/",
          "height": 509
        },
        "id": "awRLnckdf40W",
        "outputId": "23e21ad4-680f-4e4a-aca7-e73d0a643ea0"
      },
      "execution_count": null,
      "outputs": [
        {
          "output_type": "execute_result",
          "data": {
            "text/plain": [
              "(array([0, 1, 2, 3, 4, 5, 6, 7, 8, 9]),\n",
              " <a list of 10 Text major ticklabel objects>)"
            ]
          },
          "metadata": {},
          "execution_count": 47
        },
        {
          "output_type": "display_data",
          "data": {
            "text/plain": [
              "<Figure size 360x360 with 1 Axes>"
            ],
            "image/png": "[encoded data removed]"
          },
          "metadata": {
            "needs_background": "light"
          }
        }
      ]
    },
    {
      "cell_type": "markdown",
      "source": [
        "Usando o boxplot podemos notar que a maiores variações foram na população da China e da India."
      ],
      "metadata": {
        "id": "4U7orZ4-Jpep"
      }
    },
    {
      "cell_type": "markdown",
      "source": [
        "#### 3° Pergunta\n",
        "Quais sao os 10 paises com maior pegada nacional de CO2 nos ultimos 22 anos?\n"
      ],
      "metadata": {
        "id": "H0wZviipHnKl"
      }
    },
    {
      "cell_type": "code",
      "source": [
        "co2 = df_total_01[df_total_01['shortname_y'] == 'National CO2 footprint'].groupby('titlename', as_index = False)['value'].sum()\n",
        "co2_country = co2.nlargest(10, 'value')\n",
        "co2_year = df_total_01[df_total_01['shortname_y'] == 'National CO2 footprint'].groupby(['titlename', 'year'], as_index = False)['value'].sum()\n",
        "co2_sns = co2_year[co2_year['titlename'].isin(co2_country['titlename'])]\n",
        "sns.relplot(data = co2_sns,\n",
        "            x = 'year',\n",
        "            y = 'value',\n",
        "            kind = 'line',\n",
        "            hue = 'titlename')\n",
        "plt.xticks(rotation = 90)"
      ],
      "metadata": {
        "colab": {
          "base_uri": "https://localhost:8080/",
          "height": 429
        },
        "id": "LD1eVxsRWXVn",
        "outputId": "8e682a09-2c4e-4908-fbbc-f18c64daaf45"
      },
      "execution_count": null,
      "outputs": [
        {
          "output_type": "execute_result",
          "data": {
            "text/plain": [
              "(array([1997.5, 2000. , 2002.5, 2005. , 2007.5, 2010. , 2012.5, 2015. ,\n",
              "        2017.5, 2020. , 2022.5]), <a list of 11 Text major ticklabel objects>)"
            ]
          },
          "metadata": {},
          "execution_count": 48
        },
        {
          "output_type": "display_data",
          "data": {
            "text/plain": [
              "<Figure size 510.5x360 with 1 Axes>"
            ],
            "image/png": "[encoded data removed]"
          },
          "metadata": {
            "needs_background": "light"
          }
        }
      ]
    },
    {
      "cell_type": "markdown",
      "source": [
        "As maiores pegadas de CO2 são dos seguintes países: Canada, China, Germany, India, Italy, Japan, Korea, Russia, USA, Reino Unido.\n",
        "Alem disso eh possível perceber a tendencia decrescente da pegada americana e a crescente pegada chinesa e indiana."
      ],
      "metadata": {
        "id": "4WQgpvz6IK-Q"
      }
    },
    {
      "cell_type": "markdown",
      "source": [
        "#### 4° Pergunta\n",
        "Quais países tem a maior variação de pegada ecológica?"
      ],
      "metadata": {
        "id": "c2MXCNXDKCJg"
      }
    },
    {
      "cell_type": "code",
      "source": [
        "sns.catplot(data = co2_year[co2_year['titlename'].isin(co2_country['titlename'])],\n",
        "            x = 'titlename',\n",
        "            y = 'value',\n",
        "            kind = 'box')\n",
        "plt.xticks(rotation = 90)"
      ],
      "metadata": {
        "id": "OuDz377Rj4tH",
        "colab": {
          "base_uri": "https://localhost:8080/",
          "height": 509
        },
        "outputId": "02121a3b-38a8-4ee3-e7b8-ccfab5cf0225"
      },
      "execution_count": null,
      "outputs": [
        {
          "output_type": "execute_result",
          "data": {
            "text/plain": [
              "(array([0, 1, 2, 3, 4, 5, 6, 7, 8, 9]),\n",
              " <a list of 10 Text major ticklabel objects>)"
            ]
          },
          "metadata": {},
          "execution_count": 49
        },
        {
          "output_type": "display_data",
          "data": {
            "text/plain": [
              "<Figure size 360x360 with 1 Axes>"
            ],
            "image/png": "[encoded data removed]"
          },
          "metadata": {
            "needs_background": "light"
          }
        }
      ]
    },
    {
      "cell_type": "markdown",
      "source": [
        "Os países com maior variação são China, India e USA."
      ],
      "metadata": {
        "id": "Iu8-Gj_LKKoz"
      }
    },
    {
      "cell_type": "markdown",
      "source": [
        "#### 5° Pergunta\n",
        "Quais países possuem a maiores terras agrícolas nacionais?"
      ],
      "metadata": {
        "id": "tos-p6GBKbAf"
      }
    },
    {
      "cell_type": "code",
      "source": [
        "land = df_total_01[df_total_01['shortname_y'] == 'National agricultural land'].groupby('titlename', as_index = False)['value'].sum()\n",
        "land_country = land.nlargest(10, 'value')\n",
        "land_year = df_total_01[df_total_01['shortname_y'] == 'National agricultural land'].groupby(['titlename', 'year'], as_index = False)['value'].sum()\n",
        "land_sns = land_year[land_year['titlename'].isin(land_country['titlename'])]\n",
        "sns.relplot(data = land_sns,\n",
        "            x = 'year',\n",
        "            y = 'value',\n",
        "            kind = 'line',\n",
        "            hue = 'titlename')"
      ],
      "metadata": {
        "colab": {
          "base_uri": "https://localhost:8080/",
          "height": 386
        },
        "id": "pGwGDb_jX5y1",
        "outputId": "e2887c53-fc5f-45d4-b810-91c7bae737f2"
      },
      "execution_count": null,
      "outputs": [
        {
          "output_type": "execute_result",
          "data": {
            "text/plain": [
              "<seaborn.axisgrid.FacetGrid at 0x7f56949dba10>"
            ]
          },
          "metadata": {},
          "execution_count": 50
        },
        {
          "output_type": "display_data",
          "data": {
            "text/plain": [
              "<Figure size 491.25x360 with 1 Axes>"
            ],
            "image/png": "[encoded data removed]"
          },
          "metadata": {
            "needs_background": "light"
          }
        }
      ]
    },
    {
      "cell_type": "code",
      "source": [
        "sns.catplot(data = land_year[land_year['titlename'].isin(land_country['titlename'])],\n",
        "            x = 'titlename',\n",
        "            y = 'value',\n",
        "            kind = 'box')\n",
        "plt.xticks(rotation = 90)"
      ],
      "metadata": {
        "colab": {
          "base_uri": "https://localhost:8080/",
          "height": 490
        },
        "id": "vbAK139WYk75",
        "outputId": "59f5c36c-94d0-48e9-c16d-5307f3fc6b5c"
      },
      "execution_count": null,
      "outputs": [
        {
          "output_type": "execute_result",
          "data": {
            "text/plain": [
              "(array([0, 1, 2, 3, 4, 5, 6, 7, 8, 9]),\n",
              " <a list of 10 Text major ticklabel objects>)"
            ]
          },
          "metadata": {},
          "execution_count": 51
        },
        {
          "output_type": "display_data",
          "data": {
            "text/plain": [
              "<Figure size 360x360 with 1 Axes>"
            ],
            "image/png": "[encoded data removed]"
          },
          "metadata": {
            "needs_background": "light"
          }
        }
      ]
    },
    {
      "cell_type": "markdown",
      "source": [
        "Os dados indicam que a Korea é o país com maior terra agrícola nacional, o que não condiz com a realidade"
      ],
      "metadata": {
        "id": "2plnb6ZaLKBo"
      }
    },
    {
      "cell_type": "code",
      "source": [
        "# tentarei usar pivot table para entender o resultado acima\n",
        "pivot_total = df_total_01.pivot_table(values = 'value', index = ['year','titlename','region'], columns = ['shortname_y'], aggfunc = sum)\n",
        "display(pivot_total.isna().sum())\n",
        "pivot_total.head()\n"
      ],
      "metadata": {
        "colab": {
          "base_uri": "https://localhost:8080/",
          "height": 481
        },
        "id": "EHTuIn__3_QR",
        "outputId": "b0210c11-ea08-47e9-974e-f89d961dddc2"
      },
      "execution_count": null,
      "outputs": [
        {
          "output_type": "display_data",
          "data": {
            "text/plain": [
              "shortname_y\n",
              "Defense                       3908\n",
              "Education                     3607\n",
              "Government bonds & loans      4894\n",
              "Health                        3604\n",
              "Interest                      5099\n",
              "National CO2 footprint        1355\n",
              "National agricultural land    4836\n",
              "National natural capital      4964\n",
              "Personal natural capital      5022\n",
              "Population                       0\n",
              "Social protection             3657\n",
              "Total tax population          4903\n",
              "dtype: int64"
            ]
          },
          "metadata": {}
        },
        {
          "output_type": "execute_result",
          "data": {
            "text/plain": [
              "shortname_y                  Defense   Education  Government bonds & loans  \\\n",
              "year titlename      region                                                   \n",
              "2000 Afghanistan    Asia         NaN         NaN                       NaN   \n",
              "     Albania        Europe       NaN         NaN                       NaN   \n",
              "     Algeria        Africa       NaN         NaN                       NaN   \n",
              "     American Samoa Oceania      NaN         NaN                       NaN   \n",
              "     Andorra        Europe       NaN  37735789.1                       NaN   \n",
              "\n",
              "shortname_y                     Health  Interest  National CO2 footprint  \\\n",
              "year titlename      region                                                 \n",
              "2000 Afghanistan    Asia           NaN       NaN                2.020572   \n",
              "     Albania        Europe         NaN       NaN                5.020231   \n",
              "     Algeria        Africa         NaN       NaN               47.628865   \n",
              "     American Samoa Oceania        NaN       NaN                     NaN   \n",
              "     Andorra        Europe   8020581.7       NaN                     NaN   \n",
              "\n",
              "shortname_y                  National agricultural land  \\\n",
              "year titlename      region                                \n",
              "2000 Afghanistan    Asia                            NaN   \n",
              "     Albania        Europe                          NaN   \n",
              "     Algeria        Africa                          NaN   \n",
              "     American Samoa Oceania                         NaN   \n",
              "     Andorra        Europe                          NaN   \n",
              "\n",
              "shortname_y                  National natural capital  \\\n",
              "year titlename      region                              \n",
              "2000 Afghanistan    Asia                          NaN   \n",
              "     Albania        Europe                        NaN   \n",
              "     Algeria        Africa                        NaN   \n",
              "     American Samoa Oceania                       NaN   \n",
              "     Andorra        Europe                        NaN   \n",
              "\n",
              "shortname_y                  Personal natural capital   Population  \\\n",
              "year titlename      region                                           \n",
              "2000 Afghanistan    Asia                          NaN  167385727.0   \n",
              "     Albania        Europe                        NaN   28519151.0   \n",
              "     Algeria        Africa                        NaN  271066567.0   \n",
              "     American Samoa Oceania                       NaN      57821.0   \n",
              "     Andorra        Europe                        NaN      65390.0   \n",
              "\n",
              "shortname_y                  Social protection  Total tax population  \n",
              "year titlename      region                                            \n",
              "2000 Afghanistan    Asia                   NaN                   NaN  \n",
              "     Albania        Europe                 NaN                   NaN  \n",
              "     Algeria        Africa                 NaN                   NaN  \n",
              "     American Samoa Oceania                NaN                   NaN  \n",
              "     Andorra        Europe           5425950.0                   NaN  "
            ],
            "text/html": [
              "\n",
              "  <div id=\"df-8fff3cd6-45c2-4c72-b5a9-aaa196d76f9b\">\n",
              "    <div class=\"colab-df-container\">\n",
              "      <div>\n",
              "<style scoped>\n",
              "    .dataframe tbody tr th:only-of-type {\n",
              "        vertical-align: middle;\n",
              "    }\n",
              "\n",
              "    .dataframe tbody tr th {\n",
              "        vertical-align: top;\n",
              "    }\n",
              "\n",
              "    .dataframe thead th {\n",
              "        text-align: right;\n",
              "    }\n",
              "</style>\n",
              "<table border=\"1\" class=\"dataframe\">\n",
              "  <thead>\n",
              "    <tr style=\"text-align: right;\">\n",
              "      <th></th>\n",
              "      <th></th>\n",
              "      <th>shortname_y</th>\n",
              "      <th>Defense</th>\n",
              "      <th>Education</th>\n",
              "      <th>Government bonds &amp; loans</th>\n",
              "      <th>Health</th>\n",
              "      <th>Interest</th>\n",
              "      <th>National CO2 footprint</th>\n",
              "      <th>National agricultural land</th>\n",
              "      <th>National natural capital</th>\n",
              "      <th>Personal natural capital</th>\n",
              "      <th>Population</th>\n",
              "      <th>Social protection</th>\n",
              "      <th>Total tax population</th>\n",
              "    </tr>\n",
              "    <tr>\n",
              "      <th>year</th>\n",
              "      <th>titlename</th>\n",
              "      <th>region</th>\n",
              "      <th></th>\n",
              "      <th></th>\n",
              "      <th></th>\n",
              "      <th></th>\n",
              "      <th></th>\n",
              "      <th></th>\n",
              "      <th></th>\n",
              "      <th></th>\n",
              "      <th></th>\n",
              "      <th></th>\n",
              "      <th></th>\n",
              "      <th></th>\n",
              "    </tr>\n",
              "  </thead>\n",
              "  <tbody>\n",
              "    <tr>\n",
              "      <th rowspan=\"5\" valign=\"top\">2000</th>\n",
              "      <th>Afghanistan</th>\n",
              "      <th>Asia</th>\n",
              "      <td>NaN</td>\n",
              "      <td>NaN</td>\n",
              "      <td>NaN</td>\n",
              "      <td>NaN</td>\n",
              "      <td>NaN</td>\n",
              "      <td>2.020572</td>\n",
              "      <td>NaN</td>\n",
              "      <td>NaN</td>\n",
              "      <td>NaN</td>\n",
              "      <td>167385727.0</td>\n",
              "      <td>NaN</td>\n",
              "      <td>NaN</td>\n",
              "    </tr>\n",
              "    <tr>\n",
              "      <th>Albania</th>\n",
              "      <th>Europe</th>\n",
              "      <td>NaN</td>\n",
              "      <td>NaN</td>\n",
              "      <td>NaN</td>\n",
              "      <td>NaN</td>\n",
              "      <td>NaN</td>\n",
              "      <td>5.020231</td>\n",
              "      <td>NaN</td>\n",
              "      <td>NaN</td>\n",
              "      <td>NaN</td>\n",
              "      <td>28519151.0</td>\n",
              "      <td>NaN</td>\n",
              "      <td>NaN</td>\n",
              "    </tr>\n",
              "    <tr>\n",
              "      <th>Algeria</th>\n",
              "      <th>Africa</th>\n",
              "      <td>NaN</td>\n",
              "      <td>NaN</td>\n",
              "      <td>NaN</td>\n",
              "      <td>NaN</td>\n",
              "      <td>NaN</td>\n",
              "      <td>47.628865</td>\n",
              "      <td>NaN</td>\n",
              "      <td>NaN</td>\n",
              "      <td>NaN</td>\n",
              "      <td>271066567.0</td>\n",
              "      <td>NaN</td>\n",
              "      <td>NaN</td>\n",
              "    </tr>\n",
              "    <tr>\n",
              "      <th>American Samoa</th>\n",
              "      <th>Oceania</th>\n",
              "      <td>NaN</td>\n",
              "      <td>NaN</td>\n",
              "      <td>NaN</td>\n",
              "      <td>NaN</td>\n",
              "      <td>NaN</td>\n",
              "      <td>NaN</td>\n",
              "      <td>NaN</td>\n",
              "      <td>NaN</td>\n",
              "      <td>NaN</td>\n",
              "      <td>57821.0</td>\n",
              "      <td>NaN</td>\n",
              "      <td>NaN</td>\n",
              "    </tr>\n",
              "    <tr>\n",
              "      <th>Andorra</th>\n",
              "      <th>Europe</th>\n",
              "      <td>NaN</td>\n",
              "      <td>37735789.1</td>\n",
              "      <td>NaN</td>\n",
              "      <td>8020581.7</td>\n",
              "      <td>NaN</td>\n",
              "      <td>NaN</td>\n",
              "      <td>NaN</td>\n",
              "      <td>NaN</td>\n",
              "      <td>NaN</td>\n",
              "      <td>65390.0</td>\n",
              "      <td>5425950.0</td>\n",
              "      <td>NaN</td>\n",
              "    </tr>\n",
              "  </tbody>\n",
              "</table>\n",
              "</div>\n",
              "      <button class=\"colab-df-convert\" onclick=\"convertToInteractive('df-8fff3cd6-45c2-4c72-b5a9-aaa196d76f9b')\"\n",
              "              title=\"Convert this dataframe to an interactive table.\"\n",
              "              style=\"display:none;\">\n",
              "        \n",
              "  <svg xmlns=\"http://www.w3.org/2000/svg\" height=\"24px\"viewBox=\"0 0 24 24\"\n",
              "       width=\"24px\">\n",
              "    <path d=\"M0 0h24v24H0V0z\" fill=\"none\"/>\n",
              "    <path d=\"M18.56 5.44l.94 2.06.94-2.06 2.06-.94-2.06-.94-.94-2.06-.94 2.06-2.06.94zm-11 1L8.5 8.5l.94-2.06 2.06-.94-2.06-.94L8.5 2.5l-.94 2.06-2.06.94zm10 10l.94 2.06.94-2.06 2.06-.94-2.06-.94-.94-2.06-.94 2.06-2.06.94z\"/><path d=\"M17.41 7.96l-1.37-1.37c-.4-.4-.92-.59-1.43-.59-.52 0-1.04.2-1.43.59L10.3 9.45l-7.72 7.72c-.78.78-.78 2.05 0 2.83L4 21.41c.39.39.9.59 1.41.59.51 0 1.02-.2 1.41-.59l7.78-7.78 2.81-2.81c.8-.78.8-2.07 0-2.86zM5.41 20L4 18.59l7.72-7.72 1.47 1.35L5.41 20z\"/>\n",
              "  </svg>\n",
              "      </button>\n",
              "      \n",
              "  <style>\n",
              "    .colab-df-container {\n",
              "      display:flex;\n",
              "      flex-wrap:wrap;\n",
              "      gap: 12px;\n",
              "    }\n",
              "\n",
              "    .colab-df-convert {\n",
              "      background-color: #E8F0FE;\n",
              "      border: none;\n",
              "      border-radius: 50%;\n",
              "      cursor: pointer;\n",
              "      display: none;\n",
              "      fill: #1967D2;\n",
              "      height: 32px;\n",
              "      padding: 0 0 0 0;\n",
              "      width: 32px;\n",
              "    }\n",
              "\n",
              "    .colab-df-convert:hover {\n",
              "      background-color: #E2EBFA;\n",
              "      box-shadow: 0px 1px 2px rgba(60, 64, 67, 0.3), 0px 1px 3px 1px rgba(60, 64, 67, 0.15);\n",
              "      fill: #174EA6;\n",
              "    }\n",
              "\n",
              "    [theme=dark] .colab-df-convert {\n",
              "      background-color: #3B4455;\n",
              "      fill: #D2E3FC;\n",
              "    }\n",
              "\n",
              "    [theme=dark] .colab-df-convert:hover {\n",
              "      background-color: #434B5C;\n",
              "      box-shadow: 0px 1px 3px 1px rgba(0, 0, 0, 0.15);\n",
              "      filter: drop-shadow(0px 1px 2px rgba(0, 0, 0, 0.3));\n",
              "      fill: #FFFFFF;\n",
              "    }\n",
              "  </style>\n",
              "\n",
              "      <script>\n",
              "        const buttonEl =\n",
              "          document.querySelector('#df-8fff3cd6-45c2-4c72-b5a9-aaa196d76f9b button.colab-df-convert');\n",
              "        buttonEl.style.display =\n",
              "          google.colab.kernel.accessAllowed ? 'block' : 'none';\n",
              "\n",
              "        async function convertToInteractive(key) {\n",
              "          const element = document.querySelector('#df-8fff3cd6-45c2-4c72-b5a9-aaa196d76f9b');\n",
              "          const dataTable =\n",
              "            await google.colab.kernel.invokeFunction('convertToInteractive',\n",
              "                                                     [key], {});\n",
              "          if (!dataTable) return;\n",
              "\n",
              "          const docLinkHtml = 'Like what you see? Visit the ' +\n",
              "            '<a target=\"_blank\" href=https://colab.research.google.com/notebooks/data_table.ipynb>data table notebook</a>'\n",
              "            + ' to learn more about interactive tables.';\n",
              "          element.innerHTML = '';\n",
              "          dataTable['output_type'] = 'display_data';\n",
              "          await google.colab.output.renderOutput(dataTable, element);\n",
              "          const docLink = document.createElement('div');\n",
              "          docLink.innerHTML = docLinkHtml;\n",
              "          element.appendChild(docLink);\n",
              "        }\n",
              "      </script>\n",
              "    </div>\n",
              "  </div>\n",
              "  "
            ]
          },
          "metadata": {},
          "execution_count": 52
        }
      ]
    },
    {
      "cell_type": "markdown",
      "source": [
        "nao há a mesma quantidade de dados coletados em todos países, dificultando a comparacão de variáveis como: ***National agricultural land***, Education, Defense, Governmet bonds & loans, Health dentre outos.   \n"
      ],
      "metadata": {
        "id": "ip2KkI1zARJc"
      }
    }
  ]
}